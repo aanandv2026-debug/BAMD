{
 "cells": [
  {
   "cell_type": "code",
   "execution_count": 1,
   "id": "3635ff65",
   "metadata": {},
   "outputs": [],
   "source": [
    "import numpy as np\n",
    "import pandas as pd\n",
    "import matplotlib.pyplot as plt\n",
    "import seaborn as sns\n",
    "from sklearn.model_selection import train_test_split\n",
    "from sklearn.impute import SimpleImputer\n",
    "from sklearn.preprocessing import MinMaxScaler\n",
    "import tensorflow as tf\n",
    "from tensorflow.keras.layers import Input, Dense, Dropout, BatchNormalization\n",
    "from tensorflow.keras.models import Model\n",
    "from tensorflow.keras.optimizers import Adam\n",
    "from tensorflow.keras.metrics import AUC\n",
    "from sklearn.metrics import accuracy_score, confusion_matrix, classification_report, roc_auc_score, roc_curve, auc\n",
    "from sklearn.ensemble import RandomForestClassifier\n",
    "from xgboost import XGBClassifier\n",
    "from scipy import stats\n",
    "from sklearn.model_selection import RandomizedSearchCV\n",
    "from sklearn.experimental import enable_halving_search_cv\n",
    "from sklearn.model_selection import HalvingRandomSearchCV\n",
    "import joblib"
   ]
  },
  {
   "cell_type": "code",
   "execution_count": 2,
   "id": "6c281c2b",
   "metadata": {},
   "outputs": [],
   "source": [
    "import warnings\n",
    "warnings.filterwarnings('ignore')"
   ]
  },
  {
   "cell_type": "code",
   "execution_count": 3,
   "id": "b1469181",
   "metadata": {},
   "outputs": [
    {
     "data": {
      "text/html": [
       "<div>\n",
       "<style scoped>\n",
       "    .dataframe tbody tr th:only-of-type {\n",
       "        vertical-align: middle;\n",
       "    }\n",
       "\n",
       "    .dataframe tbody tr th {\n",
       "        vertical-align: top;\n",
       "    }\n",
       "\n",
       "    .dataframe thead th {\n",
       "        text-align: right;\n",
       "    }\n",
       "</style>\n",
       "<table border=\"1\" class=\"dataframe\">\n",
       "  <thead>\n",
       "    <tr style=\"text-align: right;\">\n",
       "      <th></th>\n",
       "      <th>loan_amnt</th>\n",
       "      <th>term</th>\n",
       "      <th>int_rate</th>\n",
       "      <th>installment</th>\n",
       "      <th>grade</th>\n",
       "      <th>sub_grade</th>\n",
       "      <th>emp_title</th>\n",
       "      <th>emp_length</th>\n",
       "      <th>home_ownership</th>\n",
       "      <th>annual_inc</th>\n",
       "      <th>verification_status</th>\n",
       "      <th>issue_d</th>\n",
       "      <th>loan_status</th>\n",
       "      <th>purpose</th>\n",
       "      <th>title</th>\n",
       "      <th>dti</th>\n",
       "      <th>earliest_cr_line</th>\n",
       "      <th>open_acc</th>\n",
       "      <th>pub_rec</th>\n",
       "      <th>revol_bal</th>\n",
       "      <th>revol_util</th>\n",
       "      <th>total_acc</th>\n",
       "      <th>initial_list_status</th>\n",
       "      <th>application_type</th>\n",
       "      <th>mort_acc</th>\n",
       "      <th>pub_rec_bankruptcies</th>\n",
       "      <th>address</th>\n",
       "    </tr>\n",
       "  </thead>\n",
       "  <tbody>\n",
       "    <tr>\n",
       "      <th>0</th>\n",
       "      <td>10000.0</td>\n",
       "      <td>36 months</td>\n",
       "      <td>11.44</td>\n",
       "      <td>329.48</td>\n",
       "      <td>B</td>\n",
       "      <td>B4</td>\n",
       "      <td>Marketing</td>\n",
       "      <td>10+ years</td>\n",
       "      <td>RENT</td>\n",
       "      <td>117000.0</td>\n",
       "      <td>Not Verified</td>\n",
       "      <td>Jan-2015</td>\n",
       "      <td>Fully Paid</td>\n",
       "      <td>vacation</td>\n",
       "      <td>Vacation</td>\n",
       "      <td>26.24</td>\n",
       "      <td>Jun-1990</td>\n",
       "      <td>16.0</td>\n",
       "      <td>0.0</td>\n",
       "      <td>36369.0</td>\n",
       "      <td>41.8</td>\n",
       "      <td>25.0</td>\n",
       "      <td>w</td>\n",
       "      <td>INDIVIDUAL</td>\n",
       "      <td>0.0</td>\n",
       "      <td>0.0</td>\n",
       "      <td>0174 Michelle Gateway\\r\\nMendozaberg, OK 22690</td>\n",
       "    </tr>\n",
       "    <tr>\n",
       "      <th>1</th>\n",
       "      <td>8000.0</td>\n",
       "      <td>36 months</td>\n",
       "      <td>11.99</td>\n",
       "      <td>265.68</td>\n",
       "      <td>B</td>\n",
       "      <td>B5</td>\n",
       "      <td>Credit analyst</td>\n",
       "      <td>4 years</td>\n",
       "      <td>MORTGAGE</td>\n",
       "      <td>65000.0</td>\n",
       "      <td>Not Verified</td>\n",
       "      <td>Jan-2015</td>\n",
       "      <td>Fully Paid</td>\n",
       "      <td>debt_consolidation</td>\n",
       "      <td>Debt consolidation</td>\n",
       "      <td>22.05</td>\n",
       "      <td>Jul-2004</td>\n",
       "      <td>17.0</td>\n",
       "      <td>0.0</td>\n",
       "      <td>20131.0</td>\n",
       "      <td>53.3</td>\n",
       "      <td>27.0</td>\n",
       "      <td>f</td>\n",
       "      <td>INDIVIDUAL</td>\n",
       "      <td>3.0</td>\n",
       "      <td>0.0</td>\n",
       "      <td>1076 Carney Fort Apt. 347\\r\\nLoganmouth, SD 05113</td>\n",
       "    </tr>\n",
       "    <tr>\n",
       "      <th>2</th>\n",
       "      <td>15600.0</td>\n",
       "      <td>36 months</td>\n",
       "      <td>10.49</td>\n",
       "      <td>506.97</td>\n",
       "      <td>B</td>\n",
       "      <td>B3</td>\n",
       "      <td>Statistician</td>\n",
       "      <td>&lt; 1 year</td>\n",
       "      <td>RENT</td>\n",
       "      <td>43057.0</td>\n",
       "      <td>Source Verified</td>\n",
       "      <td>Jan-2015</td>\n",
       "      <td>Fully Paid</td>\n",
       "      <td>credit_card</td>\n",
       "      <td>Credit card refinancing</td>\n",
       "      <td>12.79</td>\n",
       "      <td>Aug-2007</td>\n",
       "      <td>13.0</td>\n",
       "      <td>0.0</td>\n",
       "      <td>11987.0</td>\n",
       "      <td>92.2</td>\n",
       "      <td>26.0</td>\n",
       "      <td>f</td>\n",
       "      <td>INDIVIDUAL</td>\n",
       "      <td>0.0</td>\n",
       "      <td>0.0</td>\n",
       "      <td>87025 Mark Dale Apt. 269\\r\\nNew Sabrina, WV 05113</td>\n",
       "    </tr>\n",
       "    <tr>\n",
       "      <th>3</th>\n",
       "      <td>7200.0</td>\n",
       "      <td>36 months</td>\n",
       "      <td>6.49</td>\n",
       "      <td>220.65</td>\n",
       "      <td>A</td>\n",
       "      <td>A2</td>\n",
       "      <td>Client Advocate</td>\n",
       "      <td>6 years</td>\n",
       "      <td>RENT</td>\n",
       "      <td>54000.0</td>\n",
       "      <td>Not Verified</td>\n",
       "      <td>Nov-2014</td>\n",
       "      <td>Fully Paid</td>\n",
       "      <td>credit_card</td>\n",
       "      <td>Credit card refinancing</td>\n",
       "      <td>2.60</td>\n",
       "      <td>Sep-2006</td>\n",
       "      <td>6.0</td>\n",
       "      <td>0.0</td>\n",
       "      <td>5472.0</td>\n",
       "      <td>21.5</td>\n",
       "      <td>13.0</td>\n",
       "      <td>f</td>\n",
       "      <td>INDIVIDUAL</td>\n",
       "      <td>0.0</td>\n",
       "      <td>0.0</td>\n",
       "      <td>823 Reid Ford\\r\\nDelacruzside, MA 00813</td>\n",
       "    </tr>\n",
       "    <tr>\n",
       "      <th>4</th>\n",
       "      <td>24375.0</td>\n",
       "      <td>60 months</td>\n",
       "      <td>17.27</td>\n",
       "      <td>609.33</td>\n",
       "      <td>C</td>\n",
       "      <td>C5</td>\n",
       "      <td>Destiny Management Inc.</td>\n",
       "      <td>9 years</td>\n",
       "      <td>MORTGAGE</td>\n",
       "      <td>55000.0</td>\n",
       "      <td>Verified</td>\n",
       "      <td>Apr-2013</td>\n",
       "      <td>Charged Off</td>\n",
       "      <td>credit_card</td>\n",
       "      <td>Credit Card Refinance</td>\n",
       "      <td>33.95</td>\n",
       "      <td>Mar-1999</td>\n",
       "      <td>13.0</td>\n",
       "      <td>0.0</td>\n",
       "      <td>24584.0</td>\n",
       "      <td>69.8</td>\n",
       "      <td>43.0</td>\n",
       "      <td>f</td>\n",
       "      <td>INDIVIDUAL</td>\n",
       "      <td>1.0</td>\n",
       "      <td>0.0</td>\n",
       "      <td>679 Luna Roads\\r\\nGreggshire, VA 11650</td>\n",
       "    </tr>\n",
       "  </tbody>\n",
       "</table>\n",
       "</div>"
      ],
      "text/plain": [
       "   loan_amnt        term  int_rate  installment grade sub_grade  \\\n",
       "0    10000.0   36 months     11.44       329.48     B        B4   \n",
       "1     8000.0   36 months     11.99       265.68     B        B5   \n",
       "2    15600.0   36 months     10.49       506.97     B        B3   \n",
       "3     7200.0   36 months      6.49       220.65     A        A2   \n",
       "4    24375.0   60 months     17.27       609.33     C        C5   \n",
       "\n",
       "                 emp_title emp_length home_ownership  annual_inc  \\\n",
       "0                Marketing  10+ years           RENT    117000.0   \n",
       "1          Credit analyst     4 years       MORTGAGE     65000.0   \n",
       "2             Statistician   < 1 year           RENT     43057.0   \n",
       "3          Client Advocate    6 years           RENT     54000.0   \n",
       "4  Destiny Management Inc.    9 years       MORTGAGE     55000.0   \n",
       "\n",
       "  verification_status   issue_d  loan_status             purpose  \\\n",
       "0        Not Verified  Jan-2015   Fully Paid            vacation   \n",
       "1        Not Verified  Jan-2015   Fully Paid  debt_consolidation   \n",
       "2     Source Verified  Jan-2015   Fully Paid         credit_card   \n",
       "3        Not Verified  Nov-2014   Fully Paid         credit_card   \n",
       "4            Verified  Apr-2013  Charged Off         credit_card   \n",
       "\n",
       "                     title    dti earliest_cr_line  open_acc  pub_rec  \\\n",
       "0                 Vacation  26.24         Jun-1990      16.0      0.0   \n",
       "1       Debt consolidation  22.05         Jul-2004      17.0      0.0   \n",
       "2  Credit card refinancing  12.79         Aug-2007      13.0      0.0   \n",
       "3  Credit card refinancing   2.60         Sep-2006       6.0      0.0   \n",
       "4    Credit Card Refinance  33.95         Mar-1999      13.0      0.0   \n",
       "\n",
       "   revol_bal  revol_util  total_acc initial_list_status application_type  \\\n",
       "0    36369.0        41.8       25.0                   w       INDIVIDUAL   \n",
       "1    20131.0        53.3       27.0                   f       INDIVIDUAL   \n",
       "2    11987.0        92.2       26.0                   f       INDIVIDUAL   \n",
       "3     5472.0        21.5       13.0                   f       INDIVIDUAL   \n",
       "4    24584.0        69.8       43.0                   f       INDIVIDUAL   \n",
       "\n",
       "   mort_acc  pub_rec_bankruptcies  \\\n",
       "0       0.0                   0.0   \n",
       "1       3.0                   0.0   \n",
       "2       0.0                   0.0   \n",
       "3       0.0                   0.0   \n",
       "4       1.0                   0.0   \n",
       "\n",
       "                                             address  \n",
       "0     0174 Michelle Gateway\\r\\nMendozaberg, OK 22690  \n",
       "1  1076 Carney Fort Apt. 347\\r\\nLoganmouth, SD 05113  \n",
       "2  87025 Mark Dale Apt. 269\\r\\nNew Sabrina, WV 05113  \n",
       "3            823 Reid Ford\\r\\nDelacruzside, MA 00813  \n",
       "4             679 Luna Roads\\r\\nGreggshire, VA 11650  "
      ]
     },
     "execution_count": 3,
     "metadata": {},
     "output_type": "execute_result"
    }
   ],
   "source": [
    "df = pd.read_csv(\"lending_club_loan_two.csv\", low_memory=False)\n",
    "pd.set_option('display.max_columns', None)\n",
    "df.head()"
   ]
  },
  {
   "cell_type": "markdown",
   "id": "562de997",
   "metadata": {},
   "source": [
    "### EDA"
   ]
  },
  {
   "cell_type": "code",
   "execution_count": 4,
   "id": "aefb3067",
   "metadata": {},
   "outputs": [
    {
     "data": {
      "text/html": [
       "<div>\n",
       "<style scoped>\n",
       "    .dataframe tbody tr th:only-of-type {\n",
       "        vertical-align: middle;\n",
       "    }\n",
       "\n",
       "    .dataframe tbody tr th {\n",
       "        vertical-align: top;\n",
       "    }\n",
       "\n",
       "    .dataframe thead th {\n",
       "        text-align: right;\n",
       "    }\n",
       "</style>\n",
       "<table border=\"1\" class=\"dataframe\">\n",
       "  <thead>\n",
       "    <tr style=\"text-align: right;\">\n",
       "      <th></th>\n",
       "      <th>count</th>\n",
       "      <th>mean</th>\n",
       "      <th>std</th>\n",
       "      <th>min</th>\n",
       "      <th>25%</th>\n",
       "      <th>50%</th>\n",
       "      <th>75%</th>\n",
       "      <th>max</th>\n",
       "    </tr>\n",
       "  </thead>\n",
       "  <tbody>\n",
       "    <tr>\n",
       "      <th>loan_amnt</th>\n",
       "      <td>396030.0</td>\n",
       "      <td>14113.888089</td>\n",
       "      <td>8357.441341</td>\n",
       "      <td>500.00</td>\n",
       "      <td>8000.00</td>\n",
       "      <td>12000.00</td>\n",
       "      <td>20000.00</td>\n",
       "      <td>40000.00</td>\n",
       "    </tr>\n",
       "    <tr>\n",
       "      <th>int_rate</th>\n",
       "      <td>396030.0</td>\n",
       "      <td>13.639400</td>\n",
       "      <td>4.472157</td>\n",
       "      <td>5.32</td>\n",
       "      <td>10.49</td>\n",
       "      <td>13.33</td>\n",
       "      <td>16.49</td>\n",
       "      <td>30.99</td>\n",
       "    </tr>\n",
       "    <tr>\n",
       "      <th>installment</th>\n",
       "      <td>396030.0</td>\n",
       "      <td>431.849698</td>\n",
       "      <td>250.727790</td>\n",
       "      <td>16.08</td>\n",
       "      <td>250.33</td>\n",
       "      <td>375.43</td>\n",
       "      <td>567.30</td>\n",
       "      <td>1533.81</td>\n",
       "    </tr>\n",
       "    <tr>\n",
       "      <th>annual_inc</th>\n",
       "      <td>396030.0</td>\n",
       "      <td>74203.175798</td>\n",
       "      <td>61637.621158</td>\n",
       "      <td>0.00</td>\n",
       "      <td>45000.00</td>\n",
       "      <td>64000.00</td>\n",
       "      <td>90000.00</td>\n",
       "      <td>8706582.00</td>\n",
       "    </tr>\n",
       "    <tr>\n",
       "      <th>dti</th>\n",
       "      <td>396030.0</td>\n",
       "      <td>17.379514</td>\n",
       "      <td>18.019092</td>\n",
       "      <td>0.00</td>\n",
       "      <td>11.28</td>\n",
       "      <td>16.91</td>\n",
       "      <td>22.98</td>\n",
       "      <td>9999.00</td>\n",
       "    </tr>\n",
       "    <tr>\n",
       "      <th>open_acc</th>\n",
       "      <td>396030.0</td>\n",
       "      <td>11.311153</td>\n",
       "      <td>5.137649</td>\n",
       "      <td>0.00</td>\n",
       "      <td>8.00</td>\n",
       "      <td>10.00</td>\n",
       "      <td>14.00</td>\n",
       "      <td>90.00</td>\n",
       "    </tr>\n",
       "    <tr>\n",
       "      <th>pub_rec</th>\n",
       "      <td>396030.0</td>\n",
       "      <td>0.178191</td>\n",
       "      <td>0.530671</td>\n",
       "      <td>0.00</td>\n",
       "      <td>0.00</td>\n",
       "      <td>0.00</td>\n",
       "      <td>0.00</td>\n",
       "      <td>86.00</td>\n",
       "    </tr>\n",
       "    <tr>\n",
       "      <th>revol_bal</th>\n",
       "      <td>396030.0</td>\n",
       "      <td>15844.539853</td>\n",
       "      <td>20591.836109</td>\n",
       "      <td>0.00</td>\n",
       "      <td>6025.00</td>\n",
       "      <td>11181.00</td>\n",
       "      <td>19620.00</td>\n",
       "      <td>1743266.00</td>\n",
       "    </tr>\n",
       "    <tr>\n",
       "      <th>revol_util</th>\n",
       "      <td>395754.0</td>\n",
       "      <td>53.791749</td>\n",
       "      <td>24.452193</td>\n",
       "      <td>0.00</td>\n",
       "      <td>35.80</td>\n",
       "      <td>54.80</td>\n",
       "      <td>72.90</td>\n",
       "      <td>892.30</td>\n",
       "    </tr>\n",
       "    <tr>\n",
       "      <th>total_acc</th>\n",
       "      <td>396030.0</td>\n",
       "      <td>25.414744</td>\n",
       "      <td>11.886991</td>\n",
       "      <td>2.00</td>\n",
       "      <td>17.00</td>\n",
       "      <td>24.00</td>\n",
       "      <td>32.00</td>\n",
       "      <td>151.00</td>\n",
       "    </tr>\n",
       "    <tr>\n",
       "      <th>mort_acc</th>\n",
       "      <td>358235.0</td>\n",
       "      <td>1.813991</td>\n",
       "      <td>2.147930</td>\n",
       "      <td>0.00</td>\n",
       "      <td>0.00</td>\n",
       "      <td>1.00</td>\n",
       "      <td>3.00</td>\n",
       "      <td>34.00</td>\n",
       "    </tr>\n",
       "    <tr>\n",
       "      <th>pub_rec_bankruptcies</th>\n",
       "      <td>395495.0</td>\n",
       "      <td>0.121648</td>\n",
       "      <td>0.356174</td>\n",
       "      <td>0.00</td>\n",
       "      <td>0.00</td>\n",
       "      <td>0.00</td>\n",
       "      <td>0.00</td>\n",
       "      <td>8.00</td>\n",
       "    </tr>\n",
       "  </tbody>\n",
       "</table>\n",
       "</div>"
      ],
      "text/plain": [
       "                         count          mean           std     min       25%  \\\n",
       "loan_amnt             396030.0  14113.888089   8357.441341  500.00   8000.00   \n",
       "int_rate              396030.0     13.639400      4.472157    5.32     10.49   \n",
       "installment           396030.0    431.849698    250.727790   16.08    250.33   \n",
       "annual_inc            396030.0  74203.175798  61637.621158    0.00  45000.00   \n",
       "dti                   396030.0     17.379514     18.019092    0.00     11.28   \n",
       "open_acc              396030.0     11.311153      5.137649    0.00      8.00   \n",
       "pub_rec               396030.0      0.178191      0.530671    0.00      0.00   \n",
       "revol_bal             396030.0  15844.539853  20591.836109    0.00   6025.00   \n",
       "revol_util            395754.0     53.791749     24.452193    0.00     35.80   \n",
       "total_acc             396030.0     25.414744     11.886991    2.00     17.00   \n",
       "mort_acc              358235.0      1.813991      2.147930    0.00      0.00   \n",
       "pub_rec_bankruptcies  395495.0      0.121648      0.356174    0.00      0.00   \n",
       "\n",
       "                           50%       75%         max  \n",
       "loan_amnt             12000.00  20000.00    40000.00  \n",
       "int_rate                 13.33     16.49       30.99  \n",
       "installment             375.43    567.30     1533.81  \n",
       "annual_inc            64000.00  90000.00  8706582.00  \n",
       "dti                      16.91     22.98     9999.00  \n",
       "open_acc                 10.00     14.00       90.00  \n",
       "pub_rec                   0.00      0.00       86.00  \n",
       "revol_bal             11181.00  19620.00  1743266.00  \n",
       "revol_util               54.80     72.90      892.30  \n",
       "total_acc                24.00     32.00      151.00  \n",
       "mort_acc                  1.00      3.00       34.00  \n",
       "pub_rec_bankruptcies      0.00      0.00        8.00  "
      ]
     },
     "execution_count": 4,
     "metadata": {},
     "output_type": "execute_result"
    }
   ],
   "source": [
    "df.describe().T"
   ]
  },
  {
   "cell_type": "code",
   "execution_count": 5,
   "id": "89920db6",
   "metadata": {},
   "outputs": [
    {
     "name": "stdout",
     "output_type": "stream",
     "text": [
      "<class 'pandas.core.frame.DataFrame'>\n",
      "RangeIndex: 396030 entries, 0 to 396029\n",
      "Data columns (total 27 columns):\n",
      " #   Column                Non-Null Count   Dtype  \n",
      "---  ------                --------------   -----  \n",
      " 0   loan_amnt             396030 non-null  float64\n",
      " 1   term                  396030 non-null  object \n",
      " 2   int_rate              396030 non-null  float64\n",
      " 3   installment           396030 non-null  float64\n",
      " 4   grade                 396030 non-null  object \n",
      " 5   sub_grade             396030 non-null  object \n",
      " 6   emp_title             373103 non-null  object \n",
      " 7   emp_length            377729 non-null  object \n",
      " 8   home_ownership        396030 non-null  object \n",
      " 9   annual_inc            396030 non-null  float64\n",
      " 10  verification_status   396030 non-null  object \n",
      " 11  issue_d               396030 non-null  object \n",
      " 12  loan_status           396030 non-null  object \n",
      " 13  purpose               396030 non-null  object \n",
      " 14  title                 394274 non-null  object \n",
      " 15  dti                   396030 non-null  float64\n",
      " 16  earliest_cr_line      396030 non-null  object \n",
      " 17  open_acc              396030 non-null  float64\n",
      " 18  pub_rec               396030 non-null  float64\n",
      " 19  revol_bal             396030 non-null  float64\n",
      " 20  revol_util            395754 non-null  float64\n",
      " 21  total_acc             396030 non-null  float64\n",
      " 22  initial_list_status   396030 non-null  object \n",
      " 23  application_type      396030 non-null  object \n",
      " 24  mort_acc              358235 non-null  float64\n",
      " 25  pub_rec_bankruptcies  395495 non-null  float64\n",
      " 26  address               396030 non-null  object \n",
      "dtypes: float64(12), object(15)\n",
      "memory usage: 81.6+ MB\n"
     ]
    }
   ],
   "source": [
    "df.info()"
   ]
  },
  {
   "cell_type": "code",
   "execution_count": 6,
   "id": "41452635",
   "metadata": {},
   "outputs": [
    {
     "data": {
      "text/plain": [
       "emp_title\n",
       "Teacher                     4389\n",
       "Manager                     4250\n",
       "Registered Nurse            1856\n",
       "RN                          1846\n",
       "Supervisor                  1830\n",
       "Sales                       1638\n",
       "Project Manager             1505\n",
       "Owner                       1410\n",
       "Driver                      1339\n",
       "Office Manager              1218\n",
       "manager                     1145\n",
       "Director                    1089\n",
       "General Manager             1074\n",
       "Engineer                     995\n",
       "teacher                      962\n",
       "driver                       882\n",
       "Vice President               857\n",
       "Operations Manager           763\n",
       "Administrative Assistant     756\n",
       "Accountant                   748\n",
       "Name: count, dtype: int64"
      ]
     },
     "execution_count": 6,
     "metadata": {},
     "output_type": "execute_result"
    }
   ],
   "source": [
    "df['emp_title'].value_counts().head(20)"
   ]
  },
  {
   "cell_type": "code",
   "execution_count": 7,
   "id": "1dc3fa24",
   "metadata": {},
   "outputs": [
    {
     "data": {
      "image/png": "[encoded data removed]",
      "text/plain": [
       "<Figure size 500x350 with 1 Axes>"
      ]
     },
     "metadata": {},
     "output_type": "display_data"
    },
    {
     "data": {
      "text/html": [
       "<div>\n",
       "<style scoped>\n",
       "    .dataframe tbody tr th:only-of-type {\n",
       "        vertical-align: middle;\n",
       "    }\n",
       "\n",
       "    .dataframe tbody tr th {\n",
       "        vertical-align: top;\n",
       "    }\n",
       "\n",
       "    .dataframe thead th {\n",
       "        text-align: right;\n",
       "    }\n",
       "</style>\n",
       "<table border=\"1\" class=\"dataframe\">\n",
       "  <thead>\n",
       "    <tr style=\"text-align: right;\">\n",
       "      <th></th>\n",
       "      <th>count</th>\n",
       "      <th>mean</th>\n",
       "      <th>std</th>\n",
       "      <th>min</th>\n",
       "      <th>25%</th>\n",
       "      <th>50%</th>\n",
       "      <th>75%</th>\n",
       "      <th>max</th>\n",
       "    </tr>\n",
       "    <tr>\n",
       "      <th>loan_status</th>\n",
       "      <th></th>\n",
       "      <th></th>\n",
       "      <th></th>\n",
       "      <th></th>\n",
       "      <th></th>\n",
       "      <th></th>\n",
       "      <th></th>\n",
       "      <th></th>\n",
       "    </tr>\n",
       "  </thead>\n",
       "  <tbody>\n",
       "    <tr>\n",
       "      <th>Charged Off</th>\n",
       "      <td>77673.0</td>\n",
       "      <td>15126.300967</td>\n",
       "      <td>8505.090557</td>\n",
       "      <td>1000.0</td>\n",
       "      <td>8525.0</td>\n",
       "      <td>14000.0</td>\n",
       "      <td>20000.0</td>\n",
       "      <td>40000.0</td>\n",
       "    </tr>\n",
       "    <tr>\n",
       "      <th>Fully Paid</th>\n",
       "      <td>318357.0</td>\n",
       "      <td>13866.878771</td>\n",
       "      <td>8302.319699</td>\n",
       "      <td>500.0</td>\n",
       "      <td>7500.0</td>\n",
       "      <td>12000.0</td>\n",
       "      <td>19225.0</td>\n",
       "      <td>40000.0</td>\n",
       "    </tr>\n",
       "  </tbody>\n",
       "</table>\n",
       "</div>"
      ],
      "text/plain": [
       "                count          mean          std     min     25%      50%  \\\n",
       "loan_status                                                                 \n",
       "Charged Off   77673.0  15126.300967  8505.090557  1000.0  8525.0  14000.0   \n",
       "Fully Paid   318357.0  13866.878771  8302.319699   500.0  7500.0  12000.0   \n",
       "\n",
       "                 75%      max  \n",
       "loan_status                    \n",
       "Charged Off  20000.0  40000.0  \n",
       "Fully Paid   19225.0  40000.0  "
      ]
     },
     "execution_count": 7,
     "metadata": {},
     "output_type": "execute_result"
    }
   ],
   "source": [
    "plt.figure(figsize=(5, 3.5))\n",
    "sns.countplot(\n",
    "    data=df,\n",
    "    x='loan_status',\n",
    "    order=df['loan_status'].value_counts().index,\n",
    "    palette='viridis'\n",
    ")\n",
    "\n",
    "plt.title(\"Loan Status Counts\")\n",
    "plt.xlabel(\"Loan Status\")\n",
    "plt.ylabel(\"Count\")\n",
    "plt.tight_layout()\n",
    "plt.show()\n",
    "df.groupby(['loan_status'])['loan_amnt'].describe()"
   ]
  },
  {
   "cell_type": "code",
   "execution_count": 8,
   "id": "d6d03738",
   "metadata": {},
   "outputs": [
    {
     "data": {
      "image/png": "[encoded data removed]",
      "text/plain": [
       "<Figure size 600x400 with 1 Axes>"
      ]
     },
     "metadata": {},
     "output_type": "display_data"
    }
   ],
   "source": [
    "df['loan_status'] = df.loan_status.map({'Fully Paid': 1, 'Charged Off': 0})\n",
    "\n",
    "corr_data = df.corr(numeric_only=True)['loan_status'].drop('loan_status').sort_values()\n",
    "\n",
    "corr_df = corr_data.reset_index()\n",
    "corr_df.columns = ['Numerical Features', 'Correlation']\n",
    "\n",
    "plt.figure(figsize=(6, 4))\n",
    "sns.barplot(\n",
    "    data=corr_df,\n",
    "    y='Numerical Features',\n",
    "    x='Correlation',\n",
    "    palette='coolwarm'\n",
    ")\n",
    "\n",
    "plt.title(\"Correlation between Loan Status and Numeric Features\")\n",
    "plt.xlabel(\"Correlation\")\n",
    "plt.ylabel(\"Numerical Features\")\n",
    "plt.tight_layout()\n",
    "plt.show()"
   ]
  },
  {
   "cell_type": "markdown",
   "id": "ad251f52",
   "metadata": {},
   "source": [
    "### EDA: Dealing with Missing Value Columns"
   ]
  },
  {
   "cell_type": "code",
   "execution_count": 9,
   "id": "edab26e8",
   "metadata": {},
   "outputs": [
    {
     "data": {
      "text/plain": [
       "loan_amnt                   0\n",
       "term                        0\n",
       "int_rate                    0\n",
       "installment                 0\n",
       "grade                       0\n",
       "sub_grade                   0\n",
       "emp_title               22927\n",
       "emp_length              18301\n",
       "home_ownership              0\n",
       "annual_inc                  0\n",
       "verification_status         0\n",
       "issue_d                     0\n",
       "loan_status                 0\n",
       "purpose                     0\n",
       "title                    1756\n",
       "dti                         0\n",
       "earliest_cr_line            0\n",
       "open_acc                    0\n",
       "pub_rec                     0\n",
       "revol_bal                   0\n",
       "revol_util                276\n",
       "total_acc                   0\n",
       "initial_list_status         0\n",
       "application_type            0\n",
       "mort_acc                37795\n",
       "pub_rec_bankruptcies      535\n",
       "address                     0\n",
       "dtype: int64"
      ]
     },
     "execution_count": 9,
     "metadata": {},
     "output_type": "execute_result"
    }
   ],
   "source": [
    "df.isna().sum()"
   ]
  },
  {
   "cell_type": "markdown",
   "id": "3079b9ce",
   "metadata": {},
   "source": [
    "##### emp_title"
   ]
  },
  {
   "cell_type": "code",
   "execution_count": 10,
   "id": "687671bb",
   "metadata": {},
   "outputs": [
    {
     "data": {
      "image/png": "[encoded data removed]",
      "text/plain": [
       "<Figure size 800x500 with 1 Axes>"
      ]
     },
     "metadata": {},
     "output_type": "display_data"
    }
   ],
   "source": [
    "top_emp = df['emp_title'].value_counts().nlargest(20).reset_index()\n",
    "top_emp.columns = ['emp_title', 'count']\n",
    "\n",
    "plt.figure(figsize=(8, 5))\n",
    "sns.barplot(\n",
    "    data=top_emp,\n",
    "    y='emp_title',  # y for horizontal bars\n",
    "    x='count',\n",
    "    palette='mako'\n",
    ")\n",
    "\n",
    "plt.title(\"Top 20 Employee Titles\")\n",
    "plt.xlabel(\"Count\")\n",
    "plt.ylabel(\"Employee Title\")\n",
    "plt.tight_layout()\n",
    "plt.show()\n"
   ]
  },
  {
   "cell_type": "code",
   "execution_count": 11,
   "id": "f0cdcffd",
   "metadata": {},
   "outputs": [
    {
     "name": "stdout",
     "output_type": "stream",
     "text": [
      "The percentage of unique Employee titles are :  43.710072469257376\n"
     ]
    }
   ],
   "source": [
    "print(\"The percentage of unique Employee titles are : \",(df['emp_title'].nunique()/df.shape[0])*100)"
   ]
  },
  {
   "cell_type": "markdown",
   "id": "da67785d",
   "metadata": {},
   "source": [
    "43% of Employee titles are unique. Hence this feature will not be very informative, hence we drop it"
   ]
  },
  {
   "cell_type": "code",
   "execution_count": 12,
   "id": "46563389",
   "metadata": {},
   "outputs": [],
   "source": [
    "df = df.drop('emp_title', axis=1)"
   ]
  },
  {
   "cell_type": "markdown",
   "id": "f1ef7074",
   "metadata": {},
   "source": [
    "##### emp_length"
   ]
  },
  {
   "cell_type": "code",
   "execution_count": 13,
   "id": "c5e2b85b",
   "metadata": {},
   "outputs": [
    {
     "data": {
      "text/plain": [
       "emp_length\n",
       "10+ years    126041\n",
       "2 years       35827\n",
       "< 1 year      31725\n",
       "3 years       31665\n",
       "5 years       26495\n",
       "1 year        25882\n",
       "4 years       23952\n",
       "6 years       20841\n",
       "7 years       20819\n",
       "8 years       19168\n",
       "NaN           18301\n",
       "9 years       15314\n",
       "Name: count, dtype: int64"
      ]
     },
     "execution_count": 13,
     "metadata": {},
     "output_type": "execute_result"
    }
   ],
   "source": [
    "df['emp_length'].value_counts(dropna=False)"
   ]
  },
  {
   "cell_type": "code",
   "execution_count": 14,
   "id": "cd951cc9",
   "metadata": {},
   "outputs": [
    {
     "data": {
      "image/png": "[encoded data removed]",
      "text/plain": [
       "<Figure size 800x500 with 1 Axes>"
      ]
     },
     "metadata": {},
     "output_type": "display_data"
    }
   ],
   "source": [
    "counts = df.groupby(['emp_length', 'loan_status']).size().unstack(fill_value=0)\n",
    "proportions = counts.div(counts.sum(axis=1), axis=0) * 100  \n",
    "proportions.plot(\n",
    "    kind='bar',\n",
    "    stacked=True,\n",
    "    figsize=(8, 5),\n",
    "    colormap='Set2'\n",
    ")\n",
    "\n",
    "plt.title(\"Loan Status Distribution by Employment Length\")\n",
    "plt.ylabel(\"Percentage\")\n",
    "plt.xlabel(\"Employment Length\")\n",
    "plt.legend(title=\"Loan Status - Fully Paid: 1, Charged Off: 0\")\n",
    "plt.tight_layout()\n",
    "plt.show()\n"
   ]
  },
  {
   "cell_type": "markdown",
   "id": "4e86fe4a",
   "metadata": {},
   "source": [
    "Charge off rates are extremely similar across all employment lengths. So we are going to drop the emp_length column."
   ]
  },
  {
   "cell_type": "code",
   "execution_count": 15,
   "id": "bd143d97",
   "metadata": {},
   "outputs": [],
   "source": [
    "df = df.drop('emp_length', axis=1)"
   ]
  },
  {
   "cell_type": "markdown",
   "id": "13a41f5a",
   "metadata": {},
   "source": [
    "##### title, purpose"
   ]
  },
  {
   "cell_type": "code",
   "execution_count": 16,
   "id": "16a816fa",
   "metadata": {},
   "outputs": [
    {
     "name": "stdout",
     "output_type": "stream",
     "text": [
      "                     title             purpose\n",
      "0                 Vacation            vacation\n",
      "1       Debt consolidation  debt_consolidation\n",
      "2  Credit card refinancing         credit_card\n",
      "3  Credit card refinancing         credit_card\n",
      "4    Credit Card Refinance         credit_card\n",
      "5       Debt consolidation  debt_consolidation\n",
      "6         Home improvement    home_improvement\n",
      "7     No More Credit Cards         credit_card\n",
      "8       Debt consolidation  debt_consolidation\n",
      "9       Debt Consolidation  debt_consolidation\n"
     ]
    }
   ],
   "source": [
    "print(pd.DataFrame({'title': df['title'].head(10),'purpose': df['purpose'].head(10)}))"
   ]
  },
  {
   "cell_type": "markdown",
   "id": "3ad4bfc4",
   "metadata": {},
   "source": [
    "##### title is just a text description of purpose. So we will drop title"
   ]
  },
  {
   "cell_type": "code",
   "execution_count": 17,
   "id": "d26587ca",
   "metadata": {},
   "outputs": [],
   "source": [
    "df = df.drop('title', axis=1)"
   ]
  },
  {
   "cell_type": "markdown",
   "id": "1c457df7",
   "metadata": {},
   "source": [
    "##### revol_util, pub_rec_bankruptcies - Dropping Null rows as only 0.2% is Null"
   ]
  },
  {
   "cell_type": "code",
   "execution_count": 18,
   "id": "865402d5",
   "metadata": {},
   "outputs": [
    {
     "name": "stdout",
     "output_type": "stream",
     "text": [
      "276\n",
      "535\n"
     ]
    }
   ],
   "source": [
    "print(df['revol_util'].isna().sum())\n",
    "print(df['pub_rec_bankruptcies'].isna().sum())"
   ]
  },
  {
   "cell_type": "code",
   "execution_count": 19,
   "id": "464a9ef0",
   "metadata": {},
   "outputs": [],
   "source": [
    "df = df.dropna(subset=['revol_util', 'pub_rec_bankruptcies'])"
   ]
  },
  {
   "cell_type": "markdown",
   "id": "753bc791",
   "metadata": {},
   "source": [
    "##### mort_acc - Imputing mort_acc with median after train/test split"
   ]
  },
  {
   "cell_type": "markdown",
   "id": "78c5063b",
   "metadata": {},
   "source": [
    "### EDA: Categorical Columns"
   ]
  },
  {
   "cell_type": "code",
   "execution_count": 20,
   "id": "97d67e60",
   "metadata": {},
   "outputs": [
    {
     "name": "stdout",
     "output_type": "stream",
     "text": [
      "['term', 'grade', 'sub_grade', 'home_ownership', 'verification_status', 'issue_d', 'purpose', 'earliest_cr_line', 'initial_list_status', 'application_type', 'address']\n"
     ]
    }
   ],
   "source": [
    "print([column for column in df.columns if df[column].dtype == object])"
   ]
  },
  {
   "cell_type": "markdown",
   "id": "8289aedc",
   "metadata": {},
   "source": [
    "##### issue_d - extract year"
   ]
  },
  {
   "cell_type": "code",
   "execution_count": 21,
   "id": "b3dc3fb6",
   "metadata": {},
   "outputs": [
    {
     "data": {
      "text/plain": [
       "issue_d\n",
       "2014    102795\n",
       "2013     97597\n",
       "2015     94216\n",
       "2012     41169\n",
       "2016     28067\n",
       "2011     17427\n",
       "2010      9241\n",
       "2009      3813\n",
       "2008       889\n",
       "2007         5\n",
       "Name: count, dtype: int64"
      ]
     },
     "execution_count": 21,
     "metadata": {},
     "output_type": "execute_result"
    }
   ],
   "source": [
    "df[\"issue_d\"] = pd.to_datetime(df['issue_d'])\n",
    "df['issue_d'] = df['issue_d'].dt.year\n",
    "df['issue_d'].value_counts(dropna=False)"
   ]
  },
  {
   "cell_type": "markdown",
   "id": "0756c62c",
   "metadata": {},
   "source": [
    "##### earliest_cr_line - extract year"
   ]
  },
  {
   "cell_type": "code",
   "execution_count": 22,
   "id": "43f70151",
   "metadata": {},
   "outputs": [
    {
     "data": {
      "text/plain": [
       "earliest_cr_line\n",
       "2000    29302\n",
       "2001    29031\n",
       "1999    26444\n",
       "2002    25849\n",
       "2003    23623\n",
       "        ...  \n",
       "1950        3\n",
       "1951        3\n",
       "1953        2\n",
       "1944        1\n",
       "1948        1\n",
       "Name: count, Length: 65, dtype: int64"
      ]
     },
     "execution_count": 22,
     "metadata": {},
     "output_type": "execute_result"
    }
   ],
   "source": [
    "df[\"earliest_cr_line\"] = pd.to_datetime(df['earliest_cr_line'])\n",
    "df['earliest_cr_line'] = df['earliest_cr_line'].dt.year\n",
    "df['earliest_cr_line'].value_counts()"
   ]
  },
  {
   "cell_type": "markdown",
   "id": "37e4a02e",
   "metadata": {},
   "source": [
    "##### term - change to numerical"
   ]
  },
  {
   "cell_type": "code",
   "execution_count": 23,
   "id": "bc159666",
   "metadata": {},
   "outputs": [
    {
     "data": {
      "text/plain": [
       "array([' 36 months', ' 60 months'], dtype=object)"
      ]
     },
     "execution_count": 23,
     "metadata": {},
     "output_type": "execute_result"
    }
   ],
   "source": [
    "df.term.unique()"
   ]
  },
  {
   "cell_type": "code",
   "execution_count": 24,
   "id": "89922a44",
   "metadata": {},
   "outputs": [],
   "source": [
    "term_values = {' 36 months': 36, ' 60 months': 60}\n",
    "df['term'] = df.term.map(term_values)"
   ]
  },
  {
   "cell_type": "markdown",
   "id": "eced9387",
   "metadata": {},
   "source": [
    "##### address - extract zip code"
   ]
  },
  {
   "cell_type": "code",
   "execution_count": 25,
   "id": "c7e2d8b1",
   "metadata": {},
   "outputs": [
    {
     "data": {
      "text/plain": [
       "zip_code\n",
       "70466    56880\n",
       "22690    56413\n",
       "30723    56402\n",
       "48052    55811\n",
       "00813    45725\n",
       "29597    45393\n",
       "05113    45300\n",
       "11650    11210\n",
       "93700    11126\n",
       "86630    10959\n",
       "Name: count, dtype: int64"
      ]
     },
     "execution_count": 25,
     "metadata": {},
     "output_type": "execute_result"
    }
   ],
   "source": [
    "df['zip_code'] = df.address.apply(lambda x: x[-5:])\n",
    "df.zip_code.value_counts()"
   ]
  },
  {
   "cell_type": "code",
   "execution_count": 26,
   "id": "ba970f54",
   "metadata": {},
   "outputs": [],
   "source": [
    "df = df.drop('address', axis=1)"
   ]
  },
  {
   "cell_type": "markdown",
   "id": "3b84a975",
   "metadata": {},
   "source": [
    "##### drop grade as it is a subset of sub_grade"
   ]
  },
  {
   "cell_type": "code",
   "execution_count": 27,
   "id": "927c77cb",
   "metadata": {},
   "outputs": [],
   "source": [
    "df = df.drop('grade', axis=1)"
   ]
  },
  {
   "cell_type": "markdown",
   "id": "30a79d7e",
   "metadata": {},
   "source": [
    "##### One-hot encoding for all remaining categorical variables"
   ]
  },
  {
   "cell_type": "code",
   "execution_count": 28,
   "id": "4489f31f",
   "metadata": {},
   "outputs": [],
   "source": [
    "dummies = ['sub_grade', 'verification_status', 'purpose', 'initial_list_status', 'application_type', 'home_ownership', 'zip_code']\n",
    "df = pd.get_dummies(df, columns=dummies, drop_first=True)"
   ]
  },
  {
   "cell_type": "markdown",
   "id": "516483f9",
   "metadata": {},
   "source": [
    "### Model Building "
   ]
  },
  {
   "cell_type": "markdown",
   "id": "eb8400bc",
   "metadata": {},
   "source": [
    "##### Test Train Split"
   ]
  },
  {
   "cell_type": "code",
   "execution_count": 29,
   "id": "364eb348",
   "metadata": {},
   "outputs": [],
   "source": [
    "X = df.drop(['loan_status'], axis=1)\n",
    "\n",
    "y = df['loan_status']\n",
    "\n",
    "# Splitting the data into train and test\n",
    "X_train, X_test, y_train, y_test = train_test_split(X,y, train_size=0.67,test_size=0.33,random_state=30)"
   ]
  },
  {
   "cell_type": "markdown",
   "id": "3d88dfb6",
   "metadata": {},
   "source": [
    "##### Imputing mort_acc"
   ]
  },
  {
   "cell_type": "code",
   "execution_count": 30,
   "id": "bfd3ee36",
   "metadata": {},
   "outputs": [],
   "source": [
    "imputer = SimpleImputer(strategy='median')\n",
    "X_train_imputed = imputer.fit_transform(X_train)\n",
    "X_test_imputed = imputer.transform(X_test)\n",
    "\n",
    "X_train = pd.DataFrame(X_train_imputed, columns=X_train.columns)\n",
    "X_test = pd.DataFrame(X_test_imputed, columns=X_test.columns)"
   ]
  },
  {
   "cell_type": "markdown",
   "id": "a5ce0a42",
   "metadata": {},
   "source": [
    "##### Scaling"
   ]
  },
  {
   "cell_type": "code",
   "execution_count": 31,
   "id": "59bf2ac3",
   "metadata": {},
   "outputs": [],
   "source": [
    "scaler = MinMaxScaler()\n",
    "X_train = scaler.fit_transform(X_train)\n",
    "X_test = scaler.transform(X_test)"
   ]
  },
  {
   "cell_type": "code",
   "execution_count": 32,
   "id": "5c8fdca6",
   "metadata": {},
   "outputs": [],
   "source": [
    "def print_score(true, pred):\n",
    "    clf_report = pd.DataFrame(classification_report(true, pred, output_dict=True))\n",
    "    print(f\"Accuracy Score: {accuracy_score(true, pred) * 100:.2f}%\")\n",
    "    print(\"_______________________________________________\")\n",
    "    print(f\"CLASSIFICATION REPORT:\\n{clf_report}\")\n",
    "    print(\"_______________________________________________\")\n",
    "    print(f\"Confusion Matrix: \\n {confusion_matrix(true, pred)}\\n\")\n"
   ]
  },
  {
   "cell_type": "markdown",
   "id": "94e5af36",
   "metadata": {},
   "source": [
    "### Model 1: Artificial Nueral Network (ANN)"
   ]
  },
  {
   "cell_type": "code",
   "execution_count": 33,
   "id": "4ce0f7b0",
   "metadata": {},
   "outputs": [
    {
     "name": "stdout",
     "output_type": "stream",
     "text": [
      "Epoch 1/100\n",
      "\u001b[1m8275/8275\u001b[0m \u001b[32m━━━━━━━━━━━━━━━━━━━━\u001b[0m\u001b[37m\u001b[0m \u001b[1m28s\u001b[0m 3ms/step - AUC: 0.8375 - loss: 0.3334 - val_AUC: 0.9012 - val_loss: 0.2650\n",
      "Epoch 2/100\n",
      "\u001b[1m8275/8275\u001b[0m \u001b[32m━━━━━━━━━━━━━━━━━━━━\u001b[0m\u001b[37m\u001b[0m \u001b[1m19s\u001b[0m 2ms/step - AUC: 0.8755 - loss: 0.2915 - val_AUC: 0.9064 - val_loss: 0.2629\n",
      "Epoch 3/100\n",
      "\u001b[1m8275/8275\u001b[0m \u001b[32m━━━━━━━━━━━━━━━━━━━━\u001b[0m\u001b[37m\u001b[0m \u001b[1m19s\u001b[0m 2ms/step - AUC: 0.8822 - loss: 0.2862 - val_AUC: 0.9063 - val_loss: 0.2635\n",
      "Epoch 4/100\n",
      "\u001b[1m8275/8275\u001b[0m \u001b[32m━━━━━━━━━━━━━━━━━━━━\u001b[0m\u001b[37m\u001b[0m \u001b[1m21s\u001b[0m 2ms/step - AUC: 0.8886 - loss: 0.2799 - val_AUC: 0.9073 - val_loss: 0.2600\n",
      "Epoch 5/100\n",
      "\u001b[1m8275/8275\u001b[0m \u001b[32m━━━━━━━━━━━━━━━━━━━━\u001b[0m\u001b[37m\u001b[0m \u001b[1m39s\u001b[0m 2ms/step - AUC: 0.8903 - loss: 0.2776 - val_AUC: 0.9071 - val_loss: 0.2595\n",
      "Epoch 6/100\n",
      "\u001b[1m8275/8275\u001b[0m \u001b[32m━━━━━━━━━━━━━━━━━━━━\u001b[0m\u001b[37m\u001b[0m \u001b[1m19s\u001b[0m 2ms/step - AUC: 0.8906 - loss: 0.2785 - val_AUC: 0.9082 - val_loss: 0.2584\n",
      "Epoch 7/100\n",
      "\u001b[1m8275/8275\u001b[0m \u001b[32m━━━━━━━━━━━━━━━━━━━━\u001b[0m\u001b[37m\u001b[0m \u001b[1m19s\u001b[0m 2ms/step - AUC: 0.8908 - loss: 0.2769 - val_AUC: 0.9081 - val_loss: 0.2594\n",
      "Epoch 8/100\n",
      "\u001b[1m8275/8275\u001b[0m \u001b[32m━━━━━━━━━━━━━━━━━━━━\u001b[0m\u001b[37m\u001b[0m \u001b[1m19s\u001b[0m 2ms/step - AUC: 0.8921 - loss: 0.2770 - val_AUC: 0.9079 - val_loss: 0.2591\n",
      "Epoch 9/100\n",
      "\u001b[1m8275/8275\u001b[0m \u001b[32m━━━━━━━━━━━━━━━━━━━━\u001b[0m\u001b[37m\u001b[0m \u001b[1m21s\u001b[0m 3ms/step - AUC: 0.8924 - loss: 0.2762 - val_AUC: 0.9075 - val_loss: 0.2599\n",
      "Epoch 10/100\n",
      "\u001b[1m8275/8275\u001b[0m \u001b[32m━━━━━━━━━━━━━━━━━━━━\u001b[0m\u001b[37m\u001b[0m \u001b[1m22s\u001b[0m 3ms/step - AUC: 0.8931 - loss: 0.2745 - val_AUC: 0.9084 - val_loss: 0.2581\n",
      "Epoch 11/100\n",
      "\u001b[1m8275/8275\u001b[0m \u001b[32m━━━━━━━━━━━━━━━━━━━━\u001b[0m\u001b[37m\u001b[0m \u001b[1m21s\u001b[0m 3ms/step - AUC: 0.8936 - loss: 0.2738 - val_AUC: 0.9085 - val_loss: 0.2587\n",
      "Epoch 12/100\n",
      "\u001b[1m8275/8275\u001b[0m \u001b[32m━━━━━━━━━━━━━━━━━━━━\u001b[0m\u001b[37m\u001b[0m \u001b[1m22s\u001b[0m 3ms/step - AUC: 0.8932 - loss: 0.2738 - val_AUC: 0.9087 - val_loss: 0.2586\n",
      "Epoch 13/100\n",
      "\u001b[1m8275/8275\u001b[0m \u001b[32m━━━━━━━━━━━━━━━━━━━━\u001b[0m\u001b[37m\u001b[0m \u001b[1m24s\u001b[0m 3ms/step - AUC: 0.8937 - loss: 0.2734 - val_AUC: 0.9092 - val_loss: 0.2589\n",
      "Epoch 14/100\n",
      "\u001b[1m8275/8275\u001b[0m \u001b[32m━━━━━━━━━━━━━━━━━━━━\u001b[0m\u001b[37m\u001b[0m \u001b[1m22s\u001b[0m 3ms/step - AUC: 0.8933 - loss: 0.2741 - val_AUC: 0.9083 - val_loss: 0.2633\n",
      "Epoch 15/100\n",
      "\u001b[1m8275/8275\u001b[0m \u001b[32m━━━━━━━━━━━━━━━━━━━━\u001b[0m\u001b[37m\u001b[0m \u001b[1m40s\u001b[0m 3ms/step - AUC: 0.8939 - loss: 0.2722 - val_AUC: 0.9083 - val_loss: 0.2584\n",
      "Epoch 16/100\n",
      "\u001b[1m8275/8275\u001b[0m \u001b[32m━━━━━━━━━━━━━━━━━━━━\u001b[0m\u001b[37m\u001b[0m \u001b[1m22s\u001b[0m 3ms/step - AUC: 0.8933 - loss: 0.2752 - val_AUC: 0.9089 - val_loss: 0.2568\n",
      "Epoch 17/100\n",
      "\u001b[1m8275/8275\u001b[0m \u001b[32m━━━━━━━━━━━━━━━━━━━━\u001b[0m\u001b[37m\u001b[0m \u001b[1m23s\u001b[0m 3ms/step - AUC: 0.8936 - loss: 0.2744 - val_AUC: 0.9088 - val_loss: 0.2573\n",
      "Epoch 18/100\n",
      "\u001b[1m8275/8275\u001b[0m \u001b[32m━━━━━━━━━━━━━━━━━━━━\u001b[0m\u001b[37m\u001b[0m \u001b[1m23s\u001b[0m 3ms/step - AUC: 0.8936 - loss: 0.2741 - val_AUC: 0.9086 - val_loss: 0.2575\n",
      "Epoch 19/100\n",
      "\u001b[1m8275/8275\u001b[0m \u001b[32m━━━━━━━━━━━━━━━━━━━━\u001b[0m\u001b[37m\u001b[0m \u001b[1m22s\u001b[0m 3ms/step - AUC: 0.8945 - loss: 0.2729 - val_AUC: 0.9085 - val_loss: 0.2590\n",
      "Epoch 20/100\n",
      "\u001b[1m8275/8275\u001b[0m \u001b[32m━━━━━━━━━━━━━━━━━━━━\u001b[0m\u001b[37m\u001b[0m \u001b[1m22s\u001b[0m 3ms/step - AUC: 0.8962 - loss: 0.2720 - val_AUC: 0.9089 - val_loss: 0.2574\n",
      "Epoch 21/100\n",
      "\u001b[1m8275/8275\u001b[0m \u001b[32m━━━━━━━━━━━━━━━━━━━━\u001b[0m\u001b[37m\u001b[0m \u001b[1m22s\u001b[0m 3ms/step - AUC: 0.8967 - loss: 0.2716 - val_AUC: 0.9082 - val_loss: 0.2580\n",
      "Epoch 22/100\n",
      "\u001b[1m8275/8275\u001b[0m \u001b[32m━━━━━━━━━━━━━━━━━━━━\u001b[0m\u001b[37m\u001b[0m \u001b[1m25s\u001b[0m 3ms/step - AUC: 0.8949 - loss: 0.2730 - val_AUC: 0.9086 - val_loss: 0.2600\n",
      "Epoch 23/100\n",
      "\u001b[1m8275/8275\u001b[0m \u001b[32m━━━━━━━━━━━━━━━━━━━━\u001b[0m\u001b[37m\u001b[0m \u001b[1m25s\u001b[0m 3ms/step - AUC: 0.8965 - loss: 0.2711 - val_AUC: 0.9087 - val_loss: 0.2627\n",
      "Epoch 24/100\n",
      "\u001b[1m8275/8275\u001b[0m \u001b[32m━━━━━━━━━━━━━━━━━━━━\u001b[0m\u001b[37m\u001b[0m \u001b[1m22s\u001b[0m 3ms/step - AUC: 0.8951 - loss: 0.2727 - val_AUC: 0.9089 - val_loss: 0.2615\n",
      "Epoch 25/100\n",
      "\u001b[1m8275/8275\u001b[0m \u001b[32m━━━━━━━━━━━━━━━━━━━━\u001b[0m\u001b[37m\u001b[0m \u001b[1m22s\u001b[0m 3ms/step - AUC: 0.8967 - loss: 0.2698 - val_AUC: 0.9083 - val_loss: 0.2735\n",
      "Epoch 26/100\n",
      "\u001b[1m8275/8275\u001b[0m \u001b[32m━━━━━━━━━━━━━━━━━━━━\u001b[0m\u001b[37m\u001b[0m \u001b[1m22s\u001b[0m 3ms/step - AUC: 0.8961 - loss: 0.2720 - val_AUC: 0.9086 - val_loss: 0.2734\n",
      "Epoch 27/100\n",
      "\u001b[1m8275/8275\u001b[0m \u001b[32m━━━━━━━━━━━━━━━━━━━━\u001b[0m\u001b[37m\u001b[0m \u001b[1m22s\u001b[0m 3ms/step - AUC: 0.8966 - loss: 0.2702 - val_AUC: 0.9084 - val_loss: 0.3001\n",
      "Epoch 28/100\n",
      "\u001b[1m8275/8275\u001b[0m \u001b[32m━━━━━━━━━━━━━━━━━━━━\u001b[0m\u001b[37m\u001b[0m \u001b[1m41s\u001b[0m 3ms/step - AUC: 0.8947 - loss: 0.2718 - val_AUC: 0.9086 - val_loss: 0.2915\n",
      "Epoch 29/100\n",
      "\u001b[1m8275/8275\u001b[0m \u001b[32m━━━━━━━━━━━━━━━━━━━━\u001b[0m\u001b[37m\u001b[0m \u001b[1m22s\u001b[0m 3ms/step - AUC: 0.8969 - loss: 0.2700 - val_AUC: 0.9087 - val_loss: 0.2610\n",
      "Epoch 30/100\n",
      "\u001b[1m8275/8275\u001b[0m \u001b[32m━━━━━━━━━━━━━━━━━━━━\u001b[0m\u001b[37m\u001b[0m \u001b[1m22s\u001b[0m 3ms/step - AUC: 0.8977 - loss: 0.2697 - val_AUC: 0.9089 - val_loss: 0.2673\n",
      "Epoch 31/100\n",
      "\u001b[1m8275/8275\u001b[0m \u001b[32m━━━━━━━━━━━━━━━━━━━━\u001b[0m\u001b[37m\u001b[0m \u001b[1m22s\u001b[0m 3ms/step - AUC: 0.8964 - loss: 0.2706 - val_AUC: 0.9089 - val_loss: 0.2595\n",
      "Epoch 32/100\n",
      "\u001b[1m8275/8275\u001b[0m \u001b[32m━━━━━━━━━━━━━━━━━━━━\u001b[0m\u001b[37m\u001b[0m \u001b[1m23s\u001b[0m 3ms/step - AUC: 0.8969 - loss: 0.2701 - val_AUC: 0.9089 - val_loss: 0.2595\n",
      "Epoch 33/100\n",
      "\u001b[1m8275/8275\u001b[0m \u001b[32m━━━━━━━━━━━━━━━━━━━━\u001b[0m\u001b[37m\u001b[0m \u001b[1m23s\u001b[0m 3ms/step - AUC: 0.8963 - loss: 0.2696 - val_AUC: 0.9086 - val_loss: 0.2582\n",
      "Epoch 34/100\n",
      "\u001b[1m8275/8275\u001b[0m \u001b[32m━━━━━━━━━━━━━━━━━━━━\u001b[0m\u001b[37m\u001b[0m \u001b[1m24s\u001b[0m 3ms/step - AUC: 0.8965 - loss: 0.2709 - val_AUC: 0.9091 - val_loss: 0.2600\n",
      "Epoch 35/100\n",
      "\u001b[1m8275/8275\u001b[0m \u001b[32m━━━━━━━━━━━━━━━━━━━━\u001b[0m\u001b[37m\u001b[0m \u001b[1m22s\u001b[0m 3ms/step - AUC: 0.8980 - loss: 0.2688 - val_AUC: 0.9094 - val_loss: 0.2567\n",
      "Epoch 36/100\n",
      "\u001b[1m8275/8275\u001b[0m \u001b[32m━━━━━━━━━━━━━━━━━━━━\u001b[0m\u001b[37m\u001b[0m \u001b[1m22s\u001b[0m 3ms/step - AUC: 0.8975 - loss: 0.2704 - val_AUC: 0.9087 - val_loss: 0.2626\n",
      "Epoch 37/100\n",
      "\u001b[1m8275/8275\u001b[0m \u001b[32m━━━━━━━━━━━━━━━━━━━━\u001b[0m\u001b[37m\u001b[0m \u001b[1m22s\u001b[0m 3ms/step - AUC: 0.8974 - loss: 0.2695 - val_AUC: 0.9086 - val_loss: 0.2616\n",
      "Epoch 38/100\n",
      "\u001b[1m8275/8275\u001b[0m \u001b[32m━━━━━━━━━━━━━━━━━━━━\u001b[0m\u001b[37m\u001b[0m \u001b[1m24s\u001b[0m 3ms/step - AUC: 0.8973 - loss: 0.2699 - val_AUC: 0.9086 - val_loss: 0.2591\n",
      "Epoch 39/100\n",
      "\u001b[1m8275/8275\u001b[0m \u001b[32m━━━━━━━━━━━━━━━━━━━━\u001b[0m\u001b[37m\u001b[0m \u001b[1m23s\u001b[0m 3ms/step - AUC: 0.8956 - loss: 0.2724 - val_AUC: 0.9085 - val_loss: 0.2612\n",
      "Epoch 40/100\n",
      "\u001b[1m8275/8275\u001b[0m \u001b[32m━━━━━━━━━━━━━━━━━━━━\u001b[0m\u001b[37m\u001b[0m \u001b[1m22s\u001b[0m 3ms/step - AUC: 0.8983 - loss: 0.2698 - val_AUC: 0.9085 - val_loss: 0.2624\n",
      "Epoch 41/100\n",
      "\u001b[1m8275/8275\u001b[0m \u001b[32m━━━━━━━━━━━━━━━━━━━━\u001b[0m\u001b[37m\u001b[0m \u001b[1m22s\u001b[0m 3ms/step - AUC: 0.8986 - loss: 0.2682 - val_AUC: 0.9081 - val_loss: 0.2606\n",
      "Epoch 42/100\n",
      "\u001b[1m8275/8275\u001b[0m \u001b[32m━━━━━━━━━━━━━━━━━━━━\u001b[0m\u001b[37m\u001b[0m \u001b[1m22s\u001b[0m 3ms/step - AUC: 0.8972 - loss: 0.2697 - val_AUC: 0.9065 - val_loss: 0.2898\n",
      "Epoch 43/100\n",
      "\u001b[1m8275/8275\u001b[0m \u001b[32m━━━━━━━━━━━━━━━━━━━━\u001b[0m\u001b[37m\u001b[0m \u001b[1m23s\u001b[0m 3ms/step - AUC: 0.8969 - loss: 0.2689 - val_AUC: 0.9061 - val_loss: 0.5027\n",
      "Epoch 44/100\n",
      "\u001b[1m8275/8275\u001b[0m \u001b[32m━━━━━━━━━━━━━━━━━━━━\u001b[0m\u001b[37m\u001b[0m \u001b[1m23s\u001b[0m 3ms/step - AUC: 0.8984 - loss: 0.2690 - val_AUC: 0.9077 - val_loss: 0.2690\n",
      "Epoch 45/100\n",
      "\u001b[1m8275/8275\u001b[0m \u001b[32m━━━━━━━━━━━━━━━━━━━━\u001b[0m\u001b[37m\u001b[0m \u001b[1m23s\u001b[0m 3ms/step - AUC: 0.8987 - loss: 0.2683 - val_AUC: 0.9086 - val_loss: 0.2722\n",
      "Epoch 46/100\n",
      "\u001b[1m8275/8275\u001b[0m \u001b[32m━━━━━━━━━━━━━━━━━━━━\u001b[0m\u001b[37m\u001b[0m \u001b[1m22s\u001b[0m 3ms/step - AUC: 0.8983 - loss: 0.2680 - val_AUC: 0.9068 - val_loss: 0.3185\n",
      "Epoch 47/100\n",
      "\u001b[1m8275/8275\u001b[0m \u001b[32m━━━━━━━━━━━━━━━━━━━━\u001b[0m\u001b[37m\u001b[0m \u001b[1m22s\u001b[0m 3ms/step - AUC: 0.8967 - loss: 0.2704 - val_AUC: 0.9076 - val_loss: 0.2941\n",
      "Epoch 48/100\n",
      "\u001b[1m8275/8275\u001b[0m \u001b[32m━━━━━━━━━━━━━━━━━━━━\u001b[0m\u001b[37m\u001b[0m \u001b[1m22s\u001b[0m 3ms/step - AUC: 0.8983 - loss: 0.2686 - val_AUC: 0.9073 - val_loss: 0.2740\n",
      "Epoch 49/100\n",
      "\u001b[1m8275/8275\u001b[0m \u001b[32m━━━━━━━━━━━━━━━━━━━━\u001b[0m\u001b[37m\u001b[0m \u001b[1m23s\u001b[0m 3ms/step - AUC: 0.8965 - loss: 0.2706 - val_AUC: 0.9074 - val_loss: 0.7917\n",
      "Epoch 50/100\n",
      "\u001b[1m8275/8275\u001b[0m \u001b[32m━━━━━━━━━━━━━━━━━━━━\u001b[0m\u001b[37m\u001b[0m \u001b[1m23s\u001b[0m 3ms/step - AUC: 0.8980 - loss: 0.2679 - val_AUC: 0.9083 - val_loss: 0.3718\n",
      "Epoch 51/100\n",
      "\u001b[1m8275/8275\u001b[0m \u001b[32m━━━━━━━━━━━━━━━━━━━━\u001b[0m\u001b[37m\u001b[0m \u001b[1m22s\u001b[0m 3ms/step - AUC: 0.8979 - loss: 0.2684 - val_AUC: 0.9085 - val_loss: 0.3545\n",
      "Epoch 52/100\n",
      "\u001b[1m8275/8275\u001b[0m \u001b[32m━━━━━━━━━━━━━━━━━━━━\u001b[0m\u001b[37m\u001b[0m \u001b[1m22s\u001b[0m 3ms/step - AUC: 0.8986 - loss: 0.2684 - val_AUC: 0.9081 - val_loss: 7.9422\n",
      "Epoch 53/100\n",
      "\u001b[1m8275/8275\u001b[0m \u001b[32m━━━━━━━━━━━━━━━━━━━━\u001b[0m\u001b[37m\u001b[0m \u001b[1m22s\u001b[0m 3ms/step - AUC: 0.8971 - loss: 0.2692 - val_AUC: 0.9072 - val_loss: 1.8360\n",
      "Epoch 54/100\n",
      "\u001b[1m8275/8275\u001b[0m \u001b[32m━━━━━━━━━━━━━━━━━━━━\u001b[0m\u001b[37m\u001b[0m \u001b[1m23s\u001b[0m 3ms/step - AUC: 0.8983 - loss: 0.2690 - val_AUC: 0.9082 - val_loss: 0.2991\n",
      "Epoch 55/100\n",
      "\u001b[1m8275/8275\u001b[0m \u001b[32m━━━━━━━━━━━━━━━━━━━━\u001b[0m\u001b[37m\u001b[0m \u001b[1m42s\u001b[0m 3ms/step - AUC: 0.8990 - loss: 0.2677 - val_AUC: 0.9077 - val_loss: 0.2858\n",
      "Epoch 56/100\n",
      "\u001b[1m8275/8275\u001b[0m \u001b[32m━━━━━━━━━━━━━━━━━━━━\u001b[0m\u001b[37m\u001b[0m \u001b[1m22s\u001b[0m 3ms/step - AUC: 0.9008 - loss: 0.2663 - val_AUC: 0.9083 - val_loss: 0.3096\n",
      "Epoch 57/100\n",
      "\u001b[1m8275/8275\u001b[0m \u001b[32m━━━━━━━━━━━━━━━━━━━━\u001b[0m\u001b[37m\u001b[0m \u001b[1m22s\u001b[0m 3ms/step - AUC: 0.8978 - loss: 0.2697 - val_AUC: 0.9085 - val_loss: 0.2727\n",
      "Epoch 58/100\n",
      "\u001b[1m8275/8275\u001b[0m \u001b[32m━━━━━━━━━━━━━━━━━━━━\u001b[0m\u001b[37m\u001b[0m \u001b[1m23s\u001b[0m 3ms/step - AUC: 0.8985 - loss: 0.2681 - val_AUC: 0.9085 - val_loss: 0.2715\n",
      "Epoch 59/100\n",
      "\u001b[1m8275/8275\u001b[0m \u001b[32m━━━━━━━━━━━━━━━━━━━━\u001b[0m\u001b[37m\u001b[0m \u001b[1m23s\u001b[0m 3ms/step - AUC: 0.8990 - loss: 0.2679 - val_AUC: 0.9086 - val_loss: 0.2624\n",
      "Epoch 60/100\n",
      "\u001b[1m8275/8275\u001b[0m \u001b[32m━━━━━━━━━━━━━━━━━━━━\u001b[0m\u001b[37m\u001b[0m \u001b[1m23s\u001b[0m 3ms/step - AUC: 0.8976 - loss: 0.2702 - val_AUC: 0.9089 - val_loss: 0.2642\n",
      "Epoch 61/100\n",
      "\u001b[1m8275/8275\u001b[0m \u001b[32m━━━━━━━━━━━━━━━━━━━━\u001b[0m\u001b[37m\u001b[0m \u001b[1m22s\u001b[0m 3ms/step - AUC: 0.8973 - loss: 0.2693 - val_AUC: 0.9089 - val_loss: 0.2642\n",
      "Epoch 62/100\n",
      "\u001b[1m8275/8275\u001b[0m \u001b[32m━━━━━━━━━━━━━━━━━━━━\u001b[0m\u001b[37m\u001b[0m \u001b[1m22s\u001b[0m 3ms/step - AUC: 0.8995 - loss: 0.2672 - val_AUC: 0.9093 - val_loss: 0.2579\n",
      "Epoch 63/100\n",
      "\u001b[1m8275/8275\u001b[0m \u001b[32m━━━━━━━━━━━━━━━━━━━━\u001b[0m\u001b[37m\u001b[0m \u001b[1m22s\u001b[0m 3ms/step - AUC: 0.8981 - loss: 0.2692 - val_AUC: 0.9092 - val_loss: 0.2648\n",
      "Epoch 64/100\n",
      "\u001b[1m8275/8275\u001b[0m \u001b[32m━━━━━━━━━━━━━━━━━━━━\u001b[0m\u001b[37m\u001b[0m \u001b[1m23s\u001b[0m 3ms/step - AUC: 0.8984 - loss: 0.2693 - val_AUC: 0.9091 - val_loss: 0.3014\n",
      "Epoch 65/100\n",
      "\u001b[1m8275/8275\u001b[0m \u001b[32m━━━━━━━━━━━━━━━━━━━━\u001b[0m\u001b[37m\u001b[0m \u001b[1m40s\u001b[0m 3ms/step - AUC: 0.8993 - loss: 0.2674 - val_AUC: 0.9088 - val_loss: 0.3106\n",
      "Epoch 66/100\n",
      "\u001b[1m8275/8275\u001b[0m \u001b[32m━━━━━━━━━━━━━━━━━━━━\u001b[0m\u001b[37m\u001b[0m \u001b[1m22s\u001b[0m 3ms/step - AUC: 0.8988 - loss: 0.2697 - val_AUC: 0.9092 - val_loss: 0.4095\n",
      "Epoch 67/100\n",
      "\u001b[1m8275/8275\u001b[0m \u001b[32m━━━━━━━━━━━━━━━━━━━━\u001b[0m\u001b[37m\u001b[0m \u001b[1m22s\u001b[0m 3ms/step - AUC: 0.8989 - loss: 0.2676 - val_AUC: 0.9089 - val_loss: 0.2769\n",
      "Epoch 68/100\n",
      "\u001b[1m8275/8275\u001b[0m \u001b[32m━━━━━━━━━━━━━━━━━━━━\u001b[0m\u001b[37m\u001b[0m \u001b[1m23s\u001b[0m 3ms/step - AUC: 0.8978 - loss: 0.2687 - val_AUC: 0.9085 - val_loss: 0.2721\n",
      "Epoch 69/100\n",
      "\u001b[1m8275/8275\u001b[0m \u001b[32m━━━━━━━━━━━━━━━━━━━━\u001b[0m\u001b[37m\u001b[0m \u001b[1m23s\u001b[0m 3ms/step - AUC: 0.8992 - loss: 0.2666 - val_AUC: 0.9088 - val_loss: 0.2613\n",
      "Epoch 70/100\n",
      "\u001b[1m8275/8275\u001b[0m \u001b[32m━━━━━━━━━━━━━━━━━━━━\u001b[0m\u001b[37m\u001b[0m \u001b[1m23s\u001b[0m 3ms/step - AUC: 0.8999 - loss: 0.2664 - val_AUC: 0.9086 - val_loss: 0.2656\n",
      "Epoch 71/100\n",
      "\u001b[1m8275/8275\u001b[0m \u001b[32m━━━━━━━━━━━━━━━━━━━━\u001b[0m\u001b[37m\u001b[0m \u001b[1m23s\u001b[0m 3ms/step - AUC: 0.8985 - loss: 0.2696 - val_AUC: 0.9081 - val_loss: 0.2613\n",
      "Epoch 72/100\n",
      "\u001b[1m8275/8275\u001b[0m \u001b[32m━━━━━━━━━━━━━━━━━━━━\u001b[0m\u001b[37m\u001b[0m \u001b[1m22s\u001b[0m 3ms/step - AUC: 0.8995 - loss: 0.2686 - val_AUC: 0.9087 - val_loss: 0.2612\n",
      "Epoch 73/100\n",
      "\u001b[1m8275/8275\u001b[0m \u001b[32m━━━━━━━━━━━━━━━━━━━━\u001b[0m\u001b[37m\u001b[0m \u001b[1m23s\u001b[0m 3ms/step - AUC: 0.8999 - loss: 0.2665 - val_AUC: 0.9089 - val_loss: 0.2642\n",
      "Epoch 74/100\n",
      "\u001b[1m8275/8275\u001b[0m \u001b[32m━━━━━━━━━━━━━━━━━━━━\u001b[0m\u001b[37m\u001b[0m \u001b[1m24s\u001b[0m 3ms/step - AUC: 0.8997 - loss: 0.2674 - val_AUC: 0.9087 - val_loss: 0.2598\n",
      "Epoch 75/100\n",
      "\u001b[1m8275/8275\u001b[0m \u001b[32m━━━━━━━━━━━━━━━━━━━━\u001b[0m\u001b[37m\u001b[0m \u001b[1m23s\u001b[0m 3ms/step - AUC: 0.8989 - loss: 0.2675 - val_AUC: 0.9087 - val_loss: 0.2588\n",
      "Epoch 76/100\n",
      "\u001b[1m8275/8275\u001b[0m \u001b[32m━━━━━━━━━━━━━━━━━━━━\u001b[0m\u001b[37m\u001b[0m \u001b[1m23s\u001b[0m 3ms/step - AUC: 0.8997 - loss: 0.2664 - val_AUC: 0.9087 - val_loss: 0.2610\n",
      "Epoch 77/100\n",
      "\u001b[1m8275/8275\u001b[0m \u001b[32m━━━━━━━━━━━━━━━━━━━━\u001b[0m\u001b[37m\u001b[0m \u001b[1m23s\u001b[0m 3ms/step - AUC: 0.9006 - loss: 0.2669 - val_AUC: 0.9089 - val_loss: 0.2750\n",
      "Epoch 78/100\n",
      "\u001b[1m8275/8275\u001b[0m \u001b[32m━━━━━━━━━━━━━━━━━━━━\u001b[0m\u001b[37m\u001b[0m \u001b[1m23s\u001b[0m 3ms/step - AUC: 0.8990 - loss: 0.2682 - val_AUC: 0.9082 - val_loss: 0.2605\n",
      "Epoch 79/100\n",
      "\u001b[1m8275/8275\u001b[0m \u001b[32m━━━━━━━━━━━━━━━━━━━━\u001b[0m\u001b[37m\u001b[0m \u001b[1m25s\u001b[0m 3ms/step - AUC: 0.8994 - loss: 0.2671 - val_AUC: 0.9085 - val_loss: 0.2583\n",
      "Epoch 80/100\n",
      "\u001b[1m8275/8275\u001b[0m \u001b[32m━━━━━━━━━━━━━━━━━━━━\u001b[0m\u001b[37m\u001b[0m \u001b[1m24s\u001b[0m 3ms/step - AUC: 0.8993 - loss: 0.2677 - val_AUC: 0.9090 - val_loss: 0.2596\n",
      "Epoch 81/100\n",
      "\u001b[1m8275/8275\u001b[0m \u001b[32m━━━━━━━━━━━━━━━━━━━━\u001b[0m\u001b[37m\u001b[0m \u001b[1m23s\u001b[0m 3ms/step - AUC: 0.8990 - loss: 0.2690 - val_AUC: 0.9082 - val_loss: 0.2682\n",
      "Epoch 82/100\n",
      "\u001b[1m8275/8275\u001b[0m \u001b[32m━━━━━━━━━━━━━━━━━━━━\u001b[0m\u001b[37m\u001b[0m \u001b[1m23s\u001b[0m 3ms/step - AUC: 0.8990 - loss: 0.2675 - val_AUC: 0.9086 - val_loss: 0.2646\n",
      "Epoch 83/100\n",
      "\u001b[1m8275/8275\u001b[0m \u001b[32m━━━━━━━━━━━━━━━━━━━━\u001b[0m\u001b[37m\u001b[0m \u001b[1m23s\u001b[0m 3ms/step - AUC: 0.8992 - loss: 0.2680 - val_AUC: 0.9089 - val_loss: 0.2713\n",
      "Epoch 84/100\n",
      "\u001b[1m8275/8275\u001b[0m \u001b[32m━━━━━━━━━━━━━━━━━━━━\u001b[0m\u001b[37m\u001b[0m \u001b[1m24s\u001b[0m 3ms/step - AUC: 0.9008 - loss: 0.2671 - val_AUC: 0.9087 - val_loss: 0.2918\n",
      "Epoch 85/100\n",
      "\u001b[1m8275/8275\u001b[0m \u001b[32m━━━━━━━━━━━━━━━━━━━━\u001b[0m\u001b[37m\u001b[0m \u001b[1m24s\u001b[0m 3ms/step - AUC: 0.9003 - loss: 0.2664 - val_AUC: 0.9084 - val_loss: 0.2854\n",
      "Epoch 86/100\n",
      "\u001b[1m8275/8275\u001b[0m \u001b[32m━━━━━━━━━━━━━━━━━━━━\u001b[0m\u001b[37m\u001b[0m \u001b[1m23s\u001b[0m 3ms/step - AUC: 0.8989 - loss: 0.2678 - val_AUC: 0.9087 - val_loss: 0.2988\n",
      "Epoch 87/100\n",
      "\u001b[1m8275/8275\u001b[0m \u001b[32m━━━━━━━━━━━━━━━━━━━━\u001b[0m\u001b[37m\u001b[0m \u001b[1m22s\u001b[0m 3ms/step - AUC: 0.8987 - loss: 0.2680 - val_AUC: 0.9091 - val_loss: 0.2594\n",
      "Epoch 88/100\n",
      "\u001b[1m8275/8275\u001b[0m \u001b[32m━━━━━━━━━━━━━━━━━━━━\u001b[0m\u001b[37m\u001b[0m \u001b[1m23s\u001b[0m 3ms/step - AUC: 0.8999 - loss: 0.2671 - val_AUC: 0.9089 - val_loss: 0.2598\n",
      "Epoch 89/100\n",
      "\u001b[1m8275/8275\u001b[0m \u001b[32m━━━━━━━━━━━━━━━━━━━━\u001b[0m\u001b[37m\u001b[0m \u001b[1m24s\u001b[0m 3ms/step - AUC: 0.8997 - loss: 0.2689 - val_AUC: 0.9085 - val_loss: 0.2596\n",
      "Epoch 90/100\n",
      "\u001b[1m8275/8275\u001b[0m \u001b[32m━━━━━━━━━━━━━━━━━━━━\u001b[0m\u001b[37m\u001b[0m \u001b[1m25s\u001b[0m 3ms/step - AUC: 0.9007 - loss: 0.2660 - val_AUC: 0.9089 - val_loss: 0.2933\n",
      "Epoch 91/100\n",
      "\u001b[1m8275/8275\u001b[0m \u001b[32m━━━━━━━━━━━━━━━━━━━━\u001b[0m\u001b[37m\u001b[0m \u001b[1m23s\u001b[0m 3ms/step - AUC: 0.8993 - loss: 0.2673 - val_AUC: 0.9090 - val_loss: 0.2664\n",
      "Epoch 92/100\n",
      "\u001b[1m8275/8275\u001b[0m \u001b[32m━━━━━━━━━━━━━━━━━━━━\u001b[0m\u001b[37m\u001b[0m \u001b[1m23s\u001b[0m 3ms/step - AUC: 0.8985 - loss: 0.2684 - val_AUC: 0.9092 - val_loss: 0.2588\n",
      "Epoch 93/100\n",
      "\u001b[1m8275/8275\u001b[0m \u001b[32m━━━━━━━━━━━━━━━━━━━━\u001b[0m\u001b[37m\u001b[0m \u001b[1m23s\u001b[0m 3ms/step - AUC: 0.8993 - loss: 0.2672 - val_AUC: 0.9087 - val_loss: 0.2670\n",
      "Epoch 94/100\n",
      "\u001b[1m8275/8275\u001b[0m \u001b[32m━━━━━━━━━━━━━━━━━━━━\u001b[0m\u001b[37m\u001b[0m \u001b[1m25s\u001b[0m 3ms/step - AUC: 0.8992 - loss: 0.2676 - val_AUC: 0.9089 - val_loss: 0.2778\n",
      "Epoch 95/100\n",
      "\u001b[1m8275/8275\u001b[0m \u001b[32m━━━━━━━━━━━━━━━━━━━━\u001b[0m\u001b[37m\u001b[0m \u001b[1m24s\u001b[0m 3ms/step - AUC: 0.8991 - loss: 0.2683 - val_AUC: 0.9092 - val_loss: 0.2897\n",
      "Epoch 96/100\n",
      "\u001b[1m8275/8275\u001b[0m \u001b[32m━━━━━━━━━━━━━━━━━━━━\u001b[0m\u001b[37m\u001b[0m \u001b[1m23s\u001b[0m 3ms/step - AUC: 0.8986 - loss: 0.2685 - val_AUC: 0.9089 - val_loss: 0.2796\n",
      "Epoch 97/100\n",
      "\u001b[1m8275/8275\u001b[0m \u001b[32m━━━━━━━━━━━━━━━━━━━━\u001b[0m\u001b[37m\u001b[0m \u001b[1m23s\u001b[0m 3ms/step - AUC: 0.9005 - loss: 0.2672 - val_AUC: 0.9090 - val_loss: 0.2645\n",
      "Epoch 98/100\n",
      "\u001b[1m8275/8275\u001b[0m \u001b[32m━━━━━━━━━━━━━━━━━━━━\u001b[0m\u001b[37m\u001b[0m \u001b[1m23s\u001b[0m 3ms/step - AUC: 0.8994 - loss: 0.2685 - val_AUC: 0.9089 - val_loss: 0.3596\n",
      "Epoch 99/100\n",
      "\u001b[1m8275/8275\u001b[0m \u001b[32m━━━━━━━━━━━━━━━━━━━━\u001b[0m\u001b[37m\u001b[0m \u001b[1m24s\u001b[0m 3ms/step - AUC: 0.9015 - loss: 0.2654 - val_AUC: 0.9087 - val_loss: 0.3696\n",
      "Epoch 100/100\n",
      "\u001b[1m8275/8275\u001b[0m \u001b[32m━━━━━━━━━━━━━━━━━━━━\u001b[0m\u001b[37m\u001b[0m \u001b[1m41s\u001b[0m 3ms/step - AUC: 0.8995 - loss: 0.2670 - val_AUC: 0.9086 - val_loss: 0.3601\n"
     ]
    }
   ],
   "source": [
    "num_columns = X_train.shape[1]\n",
    "num_labels = 1\n",
    "hidden_units = [150, 150, 150]\n",
    "dropout_rates = [0.1, 0, 0.1, 0]\n",
    "learning_rate = 1e-3\n",
    "\n",
    "# Input layer\n",
    "inp = Input(shape=(num_columns,))\n",
    "x = BatchNormalization()(inp)\n",
    "x = Dropout(dropout_rates[0])(x)\n",
    "\n",
    "# Hidden layers\n",
    "for i in range(len(hidden_units)):\n",
    "    x = Dense(hidden_units[i], activation='relu')(x)\n",
    "    x = BatchNormalization()(x)\n",
    "    x = Dropout(dropout_rates[i + 1])(x)\n",
    "\n",
    "# Output layer\n",
    "x = Dense(num_labels, activation='sigmoid')(x)\n",
    "\n",
    "# Build and compile model\n",
    "model = Model(inputs=inp, outputs=x)\n",
    "model.compile(\n",
    "    optimizer=Adam(learning_rate),\n",
    "    loss='binary_crossentropy',\n",
    "    metrics=[AUC(name='AUC')]\n",
    ")\n",
    "\n",
    "# Train model\n",
    "r = model.fit(\n",
    "    X_train, y_train,\n",
    "    validation_data=(X_test, y_test),\n",
    "    epochs=100,\n",
    "    batch_size=32\n",
    ")\n"
   ]
  },
  {
   "cell_type": "code",
   "execution_count": 34,
   "id": "dd4ca4a3",
   "metadata": {},
   "outputs": [
    {
     "data": {
      "text/plain": [
       "<matplotlib.legend.Legend at 0x26ec0dbcc20>"
      ]
     },
     "execution_count": 34,
     "metadata": {},
     "output_type": "execute_result"
    },
    {
     "data": {
      "image/png": "[encoded data removed]",
      "text/plain": [
       "<Figure size 1200x800 with 2 Axes>"
      ]
     },
     "metadata": {},
     "output_type": "display_data"
    }
   ],
   "source": [
    "plt.figure(figsize=(12, 8))\n",
    "\n",
    "plt.subplot(2, 2, 1)\n",
    "plt.plot(r.history['loss'], label='Loss')\n",
    "plt.plot(r.history['val_loss'], label='val_Loss')\n",
    "plt.title('Loss evolution during trainig')\n",
    "plt.legend()\n",
    "\n",
    "plt.subplot(2, 2, 2)\n",
    "plt.plot(r.history['AUC'], label='AUC')\n",
    "plt.plot(r.history['val_AUC'], label='val_AUC')\n",
    "plt.title('AUC score evolution during trainig')\n",
    "plt.legend()\n"
   ]
  },
  {
   "cell_type": "code",
   "execution_count": 35,
   "id": "4f9f5051",
   "metadata": {},
   "outputs": [
    {
     "name": "stdout",
     "output_type": "stream",
     "text": [
      "\u001b[1m8275/8275\u001b[0m \u001b[32m━━━━━━━━━━━━━━━━━━━━\u001b[0m\u001b[37m\u001b[0m \u001b[1m5s\u001b[0m 614us/step\n",
      "Training Results\n",
      "Accuracy Score: 89.16%\n",
      "_______________________________________________\n",
      "CLASSIFICATION REPORT:\n",
      "                      0              1  accuracy      macro avg   weighted avg\n",
      "precision      0.894652       0.891165   0.89155       0.892909       0.891847\n",
      "recall         0.505106       0.985535   0.89155       0.745320       0.891550\n",
      "f1-score       0.645675       0.935977   0.89155       0.790826       0.879187\n",
      "support    51801.000000  212995.000000   0.89155  264796.000000  264796.000000\n",
      "_______________________________________________\n",
      "Confusion Matrix: \n",
      " [[ 26165  25636]\n",
      " [  3081 209914]]\n",
      "\n"
     ]
    }
   ],
   "source": [
    "y_train_pred = model.predict(X_train)\n",
    "print(\"Training Results\")\n",
    "print_score(y_train, y_train_pred.round())"
   ]
  },
  {
   "cell_type": "code",
   "execution_count": 36,
   "id": "bcbe14f2",
   "metadata": {},
   "outputs": [
    {
     "name": "stdout",
     "output_type": "stream",
     "text": [
      "\u001b[1m4076/4076\u001b[0m \u001b[32m━━━━━━━━━━━━━━━━━━━━\u001b[0m\u001b[37m\u001b[0m \u001b[1m3s\u001b[0m 609us/step\n",
      "Test Results\n",
      "Accuracy Score: 88.82%\n",
      "_______________________________________________\n",
      "CLASSIFICATION REPORT:\n",
      "                      0              1  accuracy      macro avg   weighted avg\n",
      "precision      0.884363       0.888630  0.888156       0.886497       0.887789\n",
      "recall         0.498017       0.984002  0.888156       0.741010       0.888156\n",
      "f1-score       0.637202       0.933887  0.888156       0.785545       0.875375\n",
      "support    25722.000000  104701.000000  0.888156  130423.000000  130423.000000\n",
      "_______________________________________________\n",
      "Confusion Matrix: \n",
      " [[ 12810  12912]\n",
      " [  1675 103026]]\n",
      "\n"
     ]
    }
   ],
   "source": [
    "y_test_pred = model.predict(X_test)\n",
    "print(\"Test Results\")\n",
    "print_score(y_test, y_test_pred.round())"
   ]
  },
  {
   "cell_type": "markdown",
   "id": "14dfcf65",
   "metadata": {},
   "source": [
    "### Model 2: Random Forest Classifier"
   ]
  },
  {
   "cell_type": "code",
   "execution_count": 37,
   "id": "a35f1e59",
   "metadata": {},
   "outputs": [
    {
     "name": "stdout",
     "output_type": "stream",
     "text": [
      "Starting Halving Random Search...\n",
      "n_iterations: 4\n",
      "n_required_iterations: 4\n",
      "n_possible_iterations: 4\n",
      "min_resources_: 100\n",
      "max_resources_: 1000\n",
      "aggressive_elimination: False\n",
      "factor: 2\n",
      "----------\n",
      "iter: 0\n",
      "n_candidates: 10\n",
      "n_resources: 100\n",
      "Fitting 2 folds for each of 10 candidates, totalling 20 fits\n",
      "----------\n",
      "iter: 1\n",
      "n_candidates: 5\n",
      "n_resources: 200\n",
      "Fitting 2 folds for each of 5 candidates, totalling 10 fits\n",
      "----------\n",
      "iter: 2\n",
      "n_candidates: 3\n",
      "n_resources: 400\n",
      "Fitting 2 folds for each of 3 candidates, totalling 6 fits\n",
      "----------\n",
      "iter: 3\n",
      "n_candidates: 2\n",
      "n_resources: 800\n",
      "Fitting 2 folds for each of 2 candidates, totalling 4 fits\n",
      "\n",
      "Search Complete.\n",
      "Best Parameters Found: {'class_weight': 'balanced_subsample', 'max_depth': 31, 'max_features': 'sqrt', 'min_samples_leaf': 12, 'min_samples_split': 18, 'n_estimators': 800}\n",
      "Best ROC AUC Score: 0.8940352658664417\n"
     ]
    }
   ],
   "source": [
    "param_grid = dict(\n",
    "    max_depth=stats.randint(10, 80),\n",
    "    min_samples_split=stats.randint(2, 20),\n",
    "    min_samples_leaf=stats.randint(1, 20),\n",
    "    max_features=['sqrt', stats.uniform(0.5, 0.5)],\n",
    "    class_weight=['balanced', 'balanced_subsample', None]\n",
    ")\n",
    "\n",
    "rf_clf = RandomForestClassifier(\n",
    "    n_estimators=1000,\n",
    "    random_state=42,\n",
    "    n_jobs=-1\n",
    ")\n",
    "\n",
    "rf_halving_cv = HalvingRandomSearchCV(\n",
    "    estimator=rf_clf,\n",
    "    param_distributions=param_grid,\n",
    "    factor=2,  # Eliminate half the candidates at each step\n",
    "    resource='n_estimators', \n",
    "    min_resources=100,       \n",
    "    max_resources=1000,      \n",
    "    \n",
    "    cv=2,\n",
    "    scoring='roc_auc',\n",
    "    verbose=2,\n",
    "    random_state=42,\n",
    "    n_jobs=-1 \n",
    ")\n",
    "\n",
    "print(\"Starting Halving Random Search...\")\n",
    "rf_halving_cv.fit(X_train, y_train)\n",
    "\n",
    "print(\"\\nSearch Complete.\")\n",
    "best_params = rf_halving_cv.best_params_\n",
    "print(f\"Best Parameters Found: {best_params}\")\n",
    "print(f\"Best ROC AUC Score: {rf_halving_cv.best_score_}\")\n",
    "\n",
    "rf_clf = rf_halving_cv.best_estimator_\n",
    "y_train_pred = rf_clf.predict(X_train)\n",
    "y_test_pred = rf_clf.predict(X_test)\n"
   ]
  },
  {
   "cell_type": "code",
   "execution_count": 38,
   "id": "fa9b26fc",
   "metadata": {},
   "outputs": [
    {
     "name": "stdout",
     "output_type": "stream",
     "text": [
      "Training Result\n",
      "Accuracy Score: 90.00%\n",
      "_______________________________________________\n",
      "CLASSIFICATION REPORT:\n",
      "                      0              1  accuracy      macro avg   weighted avg\n",
      "precision      0.706745       0.958112  0.899987       0.832428       0.908938\n",
      "recall         0.835389       0.915698  0.899987       0.875543       0.899987\n",
      "f1-score       0.765701       0.936425  0.899987       0.851063       0.903027\n",
      "support    51801.000000  212995.000000  0.899987  264796.000000  264796.000000\n",
      "_______________________________________________\n",
      "Confusion Matrix: \n",
      " [[ 43274   8527]\n",
      " [ 17956 195039]]\n",
      "\n"
     ]
    }
   ],
   "source": [
    "print(\"Training Result\")\n",
    "print_score(y_train, y_train_pred)"
   ]
  },
  {
   "cell_type": "code",
   "execution_count": 39,
   "id": "670d9fe7",
   "metadata": {},
   "outputs": [
    {
     "name": "stdout",
     "output_type": "stream",
     "text": [
      "Test Result\n",
      "Accuracy Score: 85.14%\n",
      "_______________________________________________\n",
      "CLASSIFICATION REPORT:\n",
      "                      0              1  accuracy      macro avg   weighted avg\n",
      "precision      0.608176       0.921754  0.851353       0.764965       0.859910\n",
      "recall         0.692326       0.890421  0.851353       0.791373       0.851353\n",
      "f1-score       0.647528       0.905817  0.851353       0.776672       0.854877\n",
      "support    25722.000000  104701.000000  0.851353  130423.000000  130423.000000\n",
      "_______________________________________________\n",
      "Confusion Matrix: \n",
      " [[17808  7914]\n",
      " [11473 93228]]\n",
      "\n"
     ]
    }
   ],
   "source": [
    "print(\"Test Result\")\n",
    "print_score(y_test, y_test_pred)"
   ]
  },
  {
   "cell_type": "markdown",
   "id": "69228861",
   "metadata": {},
   "source": [
    "### Model 3: XGBoost"
   ]
  },
  {
   "cell_type": "code",
   "execution_count": 40,
   "id": "7ba2a163",
   "metadata": {},
   "outputs": [
    {
     "name": "stdout",
     "output_type": "stream",
     "text": [
      "Fitting 3 folds for each of 60 candidates, totalling 180 fits\n",
      "Best Parameters: {'learning_rate': np.float64(0.09522143097793268), 'max_depth': 4, 'n_estimators': 273}\n"
     ]
    }
   ],
   "source": [
    "param_grid = dict(\n",
    "    n_estimators=stats.randint(10, 500),\n",
    "    max_depth=stats.randint(1, 10),\n",
    "    learning_rate=stats.uniform(0, 1)\n",
    ")\n",
    "\n",
    "xgb_clf = XGBClassifier(use_label_encoder=False)\n",
    "xgb_cv = RandomizedSearchCV(\n",
    "    xgb_clf, param_grid, cv=3, n_iter=60, \n",
    "    scoring='roc_auc', n_jobs=-1, verbose=1\n",
    ")\n",
    "xgb_cv.fit(X_train, y_train)\n",
    "\n",
    "best_params = xgb_cv.best_params_\n",
    "\n",
    "print(f\"Best Parameters: {best_params}\")\n",
    "\n",
    "xgb_clf = XGBClassifier(**best_params)\n",
    "xgb_clf.fit(X_train, y_train)\n",
    "\n",
    "\n",
    "y_train_pred = xgb_clf.predict(X_train)\n",
    "y_test_pred = xgb_clf.predict(X_test)\n"
   ]
  },
  {
   "cell_type": "code",
   "execution_count": 41,
   "id": "4123cbcc",
   "metadata": {},
   "outputs": [
    {
     "name": "stdout",
     "output_type": "stream",
     "text": [
      "Training Result\n",
      "Accuracy Score: 89.21%\n",
      "_______________________________________________\n",
      "CLASSIFICATION REPORT:\n",
      "                      0              1  accuracy      macro avg   weighted avg\n",
      "precision      0.940313       0.886740  0.892075       0.913527       0.897220\n",
      "recall         0.478697       0.992610  0.892075       0.735654       0.892075\n",
      "f1-score       0.634422       0.936693  0.892075       0.785557       0.877561\n",
      "support    51801.000000  212995.000000  0.892075  264796.000000  264796.000000\n",
      "_______________________________________________\n",
      "Confusion Matrix: \n",
      " [[ 24797  27004]\n",
      " [  1574 211421]]\n",
      "\n"
     ]
    }
   ],
   "source": [
    "print(\"Training Result\")\n",
    "print_score(y_train, y_train_pred)"
   ]
  },
  {
   "cell_type": "code",
   "execution_count": 42,
   "id": "fbc1ae94",
   "metadata": {},
   "outputs": [
    {
     "name": "stdout",
     "output_type": "stream",
     "text": [
      "Test Result\n",
      "Accuracy Score: 88.91%\n",
      "_______________________________________________\n",
      "CLASSIFICATION REPORT:\n",
      "                      0              1  accuracy      macro avg   weighted avg\n",
      "precision      0.929023       0.884609  0.889076       0.906816       0.893369\n",
      "recall         0.473758       0.991108  0.889076       0.732433       0.889076\n",
      "f1-score       0.627514       0.934835  0.889076       0.781174       0.874225\n",
      "support    25722.000000  104701.000000  0.889076  130423.000000  130423.000000\n",
      "_______________________________________________\n",
      "Confusion Matrix: \n",
      " [[ 12186  13536]\n",
      " [   931 103770]]\n",
      "\n"
     ]
    }
   ],
   "source": [
    "print(\"Test Result\")\n",
    "print_score(y_test, y_test_pred)"
   ]
  },
  {
   "cell_type": "markdown",
   "id": "5eef1383",
   "metadata": {},
   "source": [
    "### Comparing the different models"
   ]
  },
  {
   "cell_type": "code",
   "execution_count": 43,
   "id": "b7a7bf3b",
   "metadata": {},
   "outputs": [
    {
     "name": "stdout",
     "output_type": "stream",
     "text": [
      "Comparing Model Performance on Test Set\n",
      "RANDOM FOREST                  roc_auc_score: 0.8961\n",
      "XGBOOST                        roc_auc_score: 0.9110\n",
      "\u001b[1m4076/4076\u001b[0m \u001b[32m━━━━━━━━━━━━━━━━━━━━\u001b[0m\u001b[37m\u001b[0m \u001b[1m3s\u001b[0m 650us/step\n",
      "ANN                            roc_auc_score: 0.9084\n"
     ]
    }
   ],
   "source": [
    "ml_models = {\n",
    "    'Random Forest': rf_clf, \n",
    "    'XGBoost': xgb_clf, \n",
    "    'ANN': model\n",
    "}\n",
    "\n",
    "print(\"Comparing Model Performance on Test Set\")\n",
    "\n",
    "for model_name, model_instance in ml_models.items():\n",
    "    \n",
    "    if model_name == 'ANN':\n",
    "        y_scores = model_instance.predict(X_test).flatten()\n",
    "    else:\n",
    "        y_scores = model_instance.predict_proba(X_test)[:, 1]\n",
    "\n",
    "    score = roc_auc_score(y_test, y_scores)\n",
    "    print(f\"{model_name.upper():{30}} roc_auc_score: {score:.4f}\")"
   ]
  },
  {
   "cell_type": "markdown",
   "id": "b4cd0089",
   "metadata": {},
   "source": [
    "### Saving Model Artifacts"
   ]
  },
  {
   "cell_type": "code",
   "execution_count": 44,
   "id": "f84f4d22",
   "metadata": {},
   "outputs": [
    {
     "name": "stderr",
     "output_type": "stream",
     "text": [
      "WARNING:absl:You are saving your model as an HDF5 file via `model.save()` or `keras.saving.save_model(model)`. This file format is considered legacy. We recommend using instead the native Keras format, e.g. `model.save('my_model.keras')` or `keras.saving.save_model(model, 'my_model.keras')`. \n"
     ]
    },
    {
     "name": "stdout",
     "output_type": "stream",
     "text": [
      "Saved model columns.\n",
      "Saved imputer.\n",
      "Saved scaler.\n",
      "Saved ANN model.\n",
      "Saved Random Forest model.\n",
      "Saved XGBoost model.\n",
      "\n",
      "Artifact saving complete!\n"
     ]
    }
   ],
   "source": [
    "joblib.dump(X.columns, 'model_columns.joblib')\n",
    "print(\"Saved model columns.\")\n",
    "\n",
    "joblib.dump(imputer, 'imputer.joblib')\n",
    "print(\"Saved imputer.\")\n",
    "\n",
    "joblib.dump(scaler, 'scaler.joblib')\n",
    "print(\"Saved scaler.\")\n",
    "\n",
    "model.save('ann_model.h5')\n",
    "print(\"Saved ANN model.\")\n",
    "\n",
    "joblib.dump(rf_clf, 'random_forest_model.joblib')\n",
    "print(\"Saved Random Forest model.\")\n",
    "\n",
    "joblib.dump(xgb_clf, 'xgboost_model.joblib')\n",
    "print(\"Saved XGBoost model.\")\n",
    "\n",
    "print(\"\\nArtifact saving complete!\")        \n"
   ]
  }
 ],
 "metadata": {
  "kernelspec": {
   "display_name": "Python 3",
   "language": "python",
   "name": "python3"
  },
  "language_info": {
   "codemirror_mode": {
    "name": "ipython",
    "version": 3
   },
   "file_extension": ".py",
   "mimetype": "text/x-python",
   "name": "python",
   "nbconvert_exporter": "python",
   "pygments_lexer": "ipython3",
   "version": "3.12.10"
  }
 },
 "nbformat": 4,
 "nbformat_minor": 5
}
